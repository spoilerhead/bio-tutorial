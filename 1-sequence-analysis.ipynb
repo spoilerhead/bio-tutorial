{
 "cells": [
  {
   "cell_type": "markdown",
   "metadata": {},
   "source": [
    "In this chapter, we will use BioPython to read in some genomic sequences. We will see how BioPython reads from files, and we'll inspect the resulting `SeqRecord` objects. We'll use the genome of e. coli as our leading example, as it is very well understood and not too large.\n",
    "\n",
    "APIs covered:\n",
    "- `Bio.Seq`\n",
    "- `Bio.SeqIO`\n",
    "- `Bio.SeqUtils`\n",
    "\n",
    "We'll focus mostly on reading in data from FASTA files, but reading data from other formats will be similar.\n"
   ]
  },
  {
   "cell_type": "markdown",
   "metadata": {},
   "source": [
    "The _genome_ is the collection of all the genetic material from an organism. The _genome sequence_ is a long string in the alphabet A, C, G, T. Depending on organism, the genome sequence differs in length, ranging from the very short (160 000 base pairs, a bacterium called Carsonella ruddi) to the very long (133 billion basepairs in the marbled lungfish). The human genome is about 3 billion base pairs long. "
   ]
  },
  {
   "cell_type": "markdown",
   "metadata": {},
   "source": [
    "Genomic sequences are commonly (but not always) saved as text files, and [FASTA](https://en.wikipedia.org/wiki/FASTA_format) is a very common file format. A FASTA file can contain one or several records, and each record consists of a header line, followed by the sequence itself. Each description is a single line starting with a `>` sign and followed by a unique identifier for the sequence. The sequence can either be a nucleotide sequence (A, C, G, T, ..) or a protein sequence."
   ]
  },
  {
   "cell_type": "code",
   "execution_count": 1,
   "metadata": {
    "scrolled": true
   },
   "outputs": [
    {
     "name": "stdout",
     "output_type": "stream",
     "text": [
      ">NR_132798.1 Roccella elisabethae S L14846 ITS region; from TYPE material\r\n",
      "GAACCTGCGGAAGGATCATTATTAAGACAGGGCCTGTTAGGCCCGACCTCCAACCCCCTGTCTACCCATCTATTGTTGCT\r\n",
      "TTGGCGGTGCGTCTGGTACTTGCCGCACGCGTTACGGCTAAGAACCGCCAGTGGCCCGGCGCGCGCGCGGGGCCGCTGAG\r\n",
      "TCGCCGTCAAGGGGCTACCACTAAATTCTCCGCACTAGTAAGCAGTCTAAGAGGAACTTTTAAAATAATCGCTTTTAAAA\r\n",
      "AAAAAAAAACTTTCAACAACGGATCTCTTGGTTCTGGCATCGATGAAGAACGCAGCGAAATGCGATAAGTAATGTGAATT\r\n",
      "GCAGAATTCAGTGAATCATCGAATCTTTGAACGCATCTTGCGCCCTCCGGTATCCCCGGTGGGCATGCCTGTTCGAGCGT\r\n",
      "CATTCGTTAAAATCATCAAGCACCGCTTGGTATTGGGTCTGACGTCCCTGCACCCGCAGAGGGACGTACCCTAAACCCCT\r\n",
      "CGGCAACGTCTCGTGGCCGTAGGCGTAGCGGAACATAATCTTTACCACGTCTACGAGGCGCGCGAGGTCGTCCAGCCCCT\r\n",
      "CTGAATCTAACGTAGAACCTTACCGTTGACCTCGGATCAGGTAGGAGTACCCGCTGAACTTAAGCATATCAATAAGCGGA\r\n",
      "GGAA\r\n"
     ]
    }
   ],
   "source": [
    "!head data/fungi.ITS.fna"
   ]
  },
  {
   "cell_type": "markdown",
   "metadata": {},
   "source": [
    "A FASTA file can contain one or more records. Usually, counting the number of sequences in a file is equivalent to counting the number of lines that start with `>`."
   ]
  },
  {
   "cell_type": "code",
   "execution_count": 2,
   "metadata": {},
   "outputs": [
    {
     "name": "stdout",
     "output_type": "stream",
     "text": [
      "8906\n"
     ]
    }
   ],
   "source": [
    "count = 0\n",
    "with open(\"data/fungi.ITS.fna\") as fp:\n",
    "    for line in fp:\n",
    "        if line.startswith(\">\"):\n",
    "            count += 1\n",
    "\n",
    "print(count)"
   ]
  },
  {
   "cell_type": "markdown",
   "metadata": {},
   "source": [
    "When dealing with sequences in text format, it is useful to keep in mind that one base is one character, so that genome sizes can easily be estimated:\n",
    "\n",
    "- The genome of e. coli is about 4.6 million base pairs in length, and takes up 4.6MB of disk space.\n",
    "- A human genome (3 billion base pairs) is about 3 GB in size.\n",
    "\n",
    "\n"
   ]
  },
  {
   "cell_type": "markdown",
   "metadata": {},
   "source": [
    "For most of this tutorial we will work with bacterial or fungal genomes, since they have several advantages:\n",
    "\n",
    "- The genomes are fairly short: on the order of a few million base pairs, so that each bacterial genome is a few megabytes in size.\n",
    "- There is a subset of bacteria and fungi whose role in nature, medicine, industry, ... is very well understood. These organisms also have a well-sequenced genomic sequence."
   ]
  },
  {
   "cell_type": "code",
   "execution_count": 3,
   "metadata": {},
   "outputs": [
    {
     "name": "stdout",
     "output_type": "stream",
     "text": [
      "1.72\n"
     ]
    }
   ],
   "source": [
    "%matplotlib inline\n",
    "\n",
    "import matplotlib.pyplot as plt\n",
    "import numpy as np\n",
    "\n",
    "import Bio\n",
    "\n",
    "print(Bio.__version__)"
   ]
  },
  {
   "cell_type": "markdown",
   "metadata": {},
   "source": [
    "Reading and writing sequence records\n",
    "----"
   ]
  },
  {
   "cell_type": "markdown",
   "metadata": {},
   "source": [
    "In this first part, we will explore how BioPython allows us to easily read and write sequences. The data that we will use for this lives in the `data/` folder of this repo. We will use FASTA files exclusively, but BioPython's [SeqIO](https://biopython.org/wiki/SeqIO) module has support for many more file formats. Usually, reading a different file format is as easy as changing a single parameter.\n",
    "\n",
    "SeqIO has several different ways of reading files:\n",
    "\n",
    "- `SeqIO.read`: for files that contain a single sequence.\n",
    "- `SeqIO.parse`: reads a file and returns an _iterator_ over SeqRecord instances\n",
    "- `SeqIO.index`: reads a file and returns a _dict-like_ object.\n",
    "\n",
    "Both `SeqIO.parse` and `SeqIO.index` don't read all data into memory at once (useful when you have a 100GB sequence file!) but they differ in what they return. `SeqIO.parse` opens the file for reading, and returns an iterator over sequences. This allows you to process sequences in _streaming_ fashion, e.g.\n",
    "```python\n",
    "seqs = SeqIO.parse(\"my-fasta-file.fa\", \"fasta\")\n",
    "for seq in seqs:\n",
    "    print(seq)\n",
    "\n",
    "seqs.close()\n",
    "```\n",
    "\n",
    "`SeqIO.index` does a little more work. It scans through the file and records for each sequence the ID of the sequence and the location of the sequence in the file. This allows you to retrieve a single sequence record at a time by specifying the ID:\n",
    "\n",
    "```python\n",
    "index = SeqIO.index(\"my-fasta-file.fa\", \"fasta\")\n",
    "print(index[\"NR_132798.1\"])\n",
    "\n",
    "```"
   ]
  },
  {
   "cell_type": "markdown",
   "metadata": {},
   "source": [
    "One last note: reading a different file format in BioPython is as easy as changing the format string. For example, to read an AB1 file (a file format used in Sanger sequencing), you can do \n",
    "```python\n",
    "abi_seqs = SeqIO.parse(\"fname.ab1\", \"ab1\")\n",
    "```"
   ]
  },
  {
   "cell_type": "code",
   "execution_count": 4,
   "metadata": {},
   "outputs": [],
   "source": [
    "from Bio import SeqIO"
   ]
  },
  {
   "cell_type": "markdown",
   "metadata": {
    "collapsed": true
   },
   "source": [
    "In the data folder, we have a file called `data/fungi.ITS.fna`.\n",
    "\n",
    "1. Open the file for reading with `SeqIO.parse`.\n",
    "\n",
    "1. Extract the first record and print it. What data type is this record?\n",
    "\n",
    "1. Close the sequence file.\n",
    "\n",
    "1. Open the file for reading with `SeqIO.index`. Extract the record for the sequence with ID `NR_111007.1`. How many records are there in the entire file?"
   ]
  },
  {
   "cell_type": "code",
   "execution_count": 5,
   "metadata": {},
   "outputs": [],
   "source": [
    "fungi =  SeqIO.parse(\"data/fungi.ITS.fna\", \"fasta\")"
   ]
  },
  {
   "cell_type": "code",
   "execution_count": 6,
   "metadata": {},
   "outputs": [
    {
     "name": "stdout",
     "output_type": "stream",
     "text": [
      "ID: NR_132798.1\n",
      "Name: NR_132798.1\n",
      "Description: NR_132798.1 Roccella elisabethae S L14846 ITS region; from TYPE material\n",
      "Number of features: 0\n",
      "Seq('GAACCTGCGGAAGGATCATTATTAAGACAGGGCCTGTTAGGCCCGACCTCCAAC...GAA', SingleLetterAlphabet())\n"
     ]
    }
   ],
   "source": [
    "rec1 = next(fungi)\n",
    "print(rec1)"
   ]
  },
  {
   "cell_type": "code",
   "execution_count": 7,
   "metadata": {},
   "outputs": [
    {
     "data": {
      "text/plain": [
       "Bio.SeqRecord.SeqRecord"
      ]
     },
     "execution_count": 7,
     "metadata": {},
     "output_type": "execute_result"
    }
   ],
   "source": [
    "type(rec1)"
   ]
  },
  {
   "cell_type": "code",
   "execution_count": 8,
   "metadata": {},
   "outputs": [],
   "source": [
    "fungi.close()"
   ]
  },
  {
   "cell_type": "code",
   "execution_count": 9,
   "metadata": {},
   "outputs": [],
   "source": [
    "fungi =  SeqIO.index(\"data/fungi.ITS.fna\", \"fasta\")"
   ]
  },
  {
   "cell_type": "code",
   "execution_count": 10,
   "metadata": {},
   "outputs": [
    {
     "name": "stdout",
     "output_type": "stream",
     "text": [
      "ID: NR_111007.1\n",
      "Name: NR_111007.1\n",
      "Description: NR_111007.1 Saccharomyces cerevisiae CBS 1171 ITS region; from TYPE material\n",
      "Number of features: 0\n",
      "Seq('AAAGAAATTTAATAATTTTGAAAATGGATTTTTTTGTTTTGGCAAGAGCATGAG...AGT', SingleLetterAlphabet())\n"
     ]
    }
   ],
   "source": [
    "print(fungi['NR_111007.1'])"
   ]
  },
  {
   "cell_type": "code",
   "execution_count": 11,
   "metadata": {},
   "outputs": [
    {
     "data": {
      "text/plain": [
       "8906"
      ]
     },
     "execution_count": 11,
     "metadata": {},
     "output_type": "execute_result"
    }
   ],
   "source": [
    "len(fungi)"
   ]
  },
  {
   "cell_type": "code",
   "execution_count": 12,
   "metadata": {},
   "outputs": [],
   "source": [
    "fungi.close()"
   ]
  },
  {
   "cell_type": "markdown",
   "metadata": {},
   "source": [
    "Lastly, some experiments to compare timings for `SeqIO.parse` and `SeqIO.index`."
   ]
  },
  {
   "cell_type": "code",
   "execution_count": 13,
   "metadata": {},
   "outputs": [
    {
     "name": "stdout",
     "output_type": "stream",
     "text": [
      "238 ns ± 7.2 ns per loop (mean ± std. dev. of 7 runs, 1000000 loops each)\n"
     ]
    }
   ],
   "source": [
    "%timeit SeqIO.parse(\"data/fungi.ITS.fna\", \"fasta\")"
   ]
  },
  {
   "cell_type": "code",
   "execution_count": 14,
   "metadata": {},
   "outputs": [
    {
     "name": "stdout",
     "output_type": "stream",
     "text": [
      "191 ms ± 2.36 ms per loop (mean ± std. dev. of 7 runs, 10 loops each)\n"
     ]
    }
   ],
   "source": [
    "%timeit SeqIO.index(\"data/fungi.ITS.fna\", \"fasta\")"
   ]
  },
  {
   "cell_type": "code",
   "execution_count": 15,
   "metadata": {},
   "outputs": [
    {
     "name": "stdout",
     "output_type": "stream",
     "text": [
      "89 ms ± 2.3 ms per loop (mean ± std. dev. of 7 runs, 10 loops each)\n"
     ]
    }
   ],
   "source": [
    "%timeit SeqIO.to_dict(SeqIO.parse(\"data/fungi.ITS.fna\", \"fasta\"))"
   ]
  },
  {
   "cell_type": "markdown",
   "metadata": {},
   "source": [
    "Aside: it is good form to _close_ the sequence index or iterator explicitly when you are done with it. This will free up whatever resources were associated with it, and signals to the reader of your code that you are \"done\" with reading sequences. Moreover, Python 3 will warn you explicitly when an open file is garbage collected.\n",
    "\n",
    "To avoid having to pepper your code with explicit calls to `index.close()`, you can pass in an explicit file handle, or use the `contextlib.closing` context manager."
   ]
  },
  {
   "cell_type": "code",
   "execution_count": 16,
   "metadata": {},
   "outputs": [
    {
     "name": "stdout",
     "output_type": "stream",
     "text": [
      "ID: NR_132798.1\n",
      "Name: NR_132798.1\n",
      "Description: NR_132798.1 Roccella elisabethae S L14846 ITS region; from TYPE material\n",
      "Number of features: 0\n",
      "Seq('GAACCTGCGGAAGGATCATTATTAAGACAGGGCCTGTTAGGCCCGACCTCCAAC...GAA', SingleLetterAlphabet())\n",
      "ID: NR_132798.1\n",
      "Name: NR_132798.1\n",
      "Description: NR_132798.1 Roccella elisabethae S L14846 ITS region; from TYPE material\n",
      "Number of features: 0\n",
      "Seq('GAACCTGCGGAAGGATCATTATTAAGACAGGGCCTGTTAGGCCCGACCTCCAAC...GAA', SingleLetterAlphabet())\n"
     ]
    }
   ],
   "source": [
    "from contextlib import closing\n",
    "\n",
    "with closing(SeqIO.parse(\"data/fungi.ITS.fna\", \"fasta\")) as fungi0:\n",
    "    print(next(fungi0))\n",
    "    \n",
    "with open(\"data/fungi.ITS.fna\") as fp:\n",
    "    fungi1 = SeqIO.parse(fp, \"fasta\")\n",
    "    print(next(fungi1))"
   ]
  },
  {
   "cell_type": "markdown",
   "metadata": {},
   "source": [
    "Exploring sequence records\n",
    "----"
   ]
  },
  {
   "cell_type": "markdown",
   "metadata": {
    "collapsed": true
   },
   "source": [
    "Now let's explore the `SeqRecord` class a little more in detail. In the repository we have a FASTA file `data/GCF_000005845.2_ASM584v2_genomic.fna` containing a reasonably up-to-date reference genome for the bacterium e. coli.\n",
    "\n",
    "1. Read this file into a single sequence record.\n",
    "1. Find the length of this sequence record.\n",
    "1. What is the description for the sequence record?\n",
    "1. Call the `repr` function on the \"sequence\" itself (accessible via the `.seq` attribute). What type is this object?\n",
    "\n",
    "For the last part, do not attempt to print the sequence directly (it's long)."
   ]
  },
  {
   "cell_type": "code",
   "execution_count": 17,
   "metadata": {},
   "outputs": [],
   "source": [
    "with open(\"data/GCF_000005845.2_ASM584v2_genomic.fna\") as fp:\n",
    "    record = SeqIO.read(fp, \"fasta\")\n",
    "    \n",
    "assert isinstance(record, Bio.SeqIO.SeqRecord)"
   ]
  },
  {
   "cell_type": "code",
   "execution_count": 18,
   "metadata": {},
   "outputs": [
    {
     "data": {
      "text/plain": [
       "4641652"
      ]
     },
     "execution_count": 18,
     "metadata": {},
     "output_type": "execute_result"
    }
   ],
   "source": [
    "len(record)"
   ]
  },
  {
   "cell_type": "code",
   "execution_count": 19,
   "metadata": {},
   "outputs": [
    {
     "data": {
      "text/plain": [
       "'NC_000913.3'"
      ]
     },
     "execution_count": 19,
     "metadata": {},
     "output_type": "execute_result"
    }
   ],
   "source": [
    "record.id"
   ]
  },
  {
   "cell_type": "code",
   "execution_count": 20,
   "metadata": {},
   "outputs": [
    {
     "data": {
      "text/plain": [
       "'NC_000913.3 Escherichia coli str. K-12 substr. MG1655, complete genome'"
      ]
     },
     "execution_count": 20,
     "metadata": {},
     "output_type": "execute_result"
    }
   ],
   "source": [
    "record.description"
   ]
  },
  {
   "cell_type": "code",
   "execution_count": 21,
   "metadata": {},
   "outputs": [
    {
     "data": {
      "text/plain": [
       "\"Seq('AGCTTTTCATTCTGACTGCAACGGGCAATATGTCTCTGTGTGGATTAAAAAAAG...TTC', SingleLetterAlphabet())\""
      ]
     },
     "execution_count": 21,
     "metadata": {},
     "output_type": "execute_result"
    }
   ],
   "source": [
    "seq = record.seq\n",
    "repr(seq)"
   ]
  },
  {
   "cell_type": "markdown",
   "metadata": {},
   "source": [
    "As you can see, the `SeqRecord` contains the full sequence together with some metadata. The `Seq` object contains just the sequence, with some information about the alphabet. Both the sequence record and the sequence itself are object that can be sliced, iterated over, ... and therefore they interact quite naturally with the rest of the Python universe.\n",
    "\n",
    "For example, let's count the number of bases A, C, G, T across the entire sequence."
   ]
  },
  {
   "cell_type": "code",
   "execution_count": 22,
   "metadata": {},
   "outputs": [
    {
     "data": {
      "text/plain": [
       "Counter({'A': 1142742, 'G': 1177437, 'C': 1180091, 'T': 1141382})"
      ]
     },
     "execution_count": 22,
     "metadata": {},
     "output_type": "execute_result"
    }
   ],
   "source": [
    "from collections import Counter\n",
    "\n",
    "Counter(seq)"
   ]
  },
  {
   "cell_type": "markdown",
   "metadata": {},
   "source": [
    "Let's slice out a particular region of the sequence and assign it to a variable `cds`. The reason for the particular indices will become clear later on..."
   ]
  },
  {
   "cell_type": "code",
   "execution_count": 23,
   "metadata": {},
   "outputs": [
    {
     "data": {
      "text/plain": [
       "Seq('ATGTCTGAACCACGTTTCGTACACCTGCGGGTGCACAGCGACTACTCGATGATC...TAA', SingleLetterAlphabet())"
      ]
     },
     "execution_count": 23,
     "metadata": {},
     "output_type": "execute_result"
    }
   ],
   "source": [
    "start, stop = 205125, 208608  # dnaE, dna polymerase III, alpha subunit\n",
    "\n",
    "cds = seq[start:stop]\n",
    "cds"
   ]
  },
  {
   "cell_type": "code",
   "execution_count": 24,
   "metadata": {},
   "outputs": [
    {
     "data": {
      "text/plain": [
       "3483"
      ]
     },
     "execution_count": 24,
     "metadata": {},
     "output_type": "execute_result"
    }
   ],
   "source": [
    "len(cds)"
   ]
  },
  {
   "cell_type": "markdown",
   "metadata": {},
   "source": [
    "Last, sequences aren't just plain old containers, they also have some specific genomic functionality."
   ]
  },
  {
   "cell_type": "markdown",
   "metadata": {},
   "source": [
    "We can ask for the _reverse complement_..."
   ]
  },
  {
   "cell_type": "code",
   "execution_count": 25,
   "metadata": {},
   "outputs": [
    {
     "data": {
      "text/plain": [
       "Seq('TTAGTCAAACTCCAGTTCCACCTGCTCCGAACCAATGAGGCCACGGAGATCGTT...CAT', SingleLetterAlphabet())"
      ]
     },
     "execution_count": 25,
     "metadata": {},
     "output_type": "execute_result"
    }
   ],
   "source": [
    "cds.reverse_complement()"
   ]
  },
  {
   "cell_type": "markdown",
   "metadata": {},
   "source": [
    "... or the RNA sequence for a given DNA sequence ..."
   ]
  },
  {
   "cell_type": "code",
   "execution_count": 26,
   "metadata": {},
   "outputs": [
    {
     "data": {
      "text/plain": [
       "Seq('AUGUCUGAACCACGUUUCGUACACCUGCGGGUGCACAGCGACUACUCGAUGAUC...UAA', RNAAlphabet())"
      ]
     },
     "execution_count": 26,
     "metadata": {},
     "output_type": "execute_result"
    }
   ],
   "source": [
    "cds.transcribe()"
   ]
  },
  {
   "cell_type": "markdown",
   "metadata": {},
   "source": [
    "... and even the protein that is expressed by a given DNA sequence, according to the \"central dogma\" of molecular biology. \n",
    "\n",
    "By setting `cds=True` we ask BioPython to check that the length of the DNA sequence is a multiple of 3, since each amino acid is encoded by 3 bases, and that the sequence starts with a _start codon_ and ends with a _stop codon_."
   ]
  },
  {
   "cell_type": "code",
   "execution_count": 27,
   "metadata": {},
   "outputs": [
    {
     "data": {
      "text/plain": [
       "Seq('MSEPRFVHLRVHSDYSMIDGLAKTAPLVKKAAALGMPALAITDFTNLCGLVKFY...EFD', ExtendedIUPACProtein())"
      ]
     },
     "execution_count": 27,
     "metadata": {},
     "output_type": "execute_result"
    }
   ],
   "source": [
    "protein = cds.translate(cds=True)\n",
    "protein"
   ]
  },
  {
   "cell_type": "code",
   "execution_count": 28,
   "metadata": {},
   "outputs": [
    {
     "name": "stdout",
     "output_type": "stream",
     "text": [
      "MSEPRFVHLRVHSDYSMIDGLAKTAPLVKKAAALGMPALAITDFTNLCGLVKFYGAGHGAGIKPIVGADFNVQCDLLGDELTHLTVLAANNTGYQNLTLLISKAYQRGYGAAGPIIDRDWLIELNEGLILLSGGRMGDVGRSLLRGNSALVDECVAFYEEHFPDRYFLELIRTGRPDEESYLHAAVELAEARGLPVVATNDVRFIDSSDFDAHEIRVAIHDGFTLDDPKRPRNYSPQQYMRSEEEMCELFADIPEALANTVEIAKRCNVTVRLGEYFLPQFPTGDMSTEDYLVKRAKEGLEERLAFLFPDEEERLKRRPEYDERLETELQVINQMGFPGYFLIVMEFIQWSKDNGVPVGPGRGSGAGSLVAYALKITDLDPLEFDLLFERFLNPERVSMPDFDVDFCMEKRDQVIEHVADMYGRDAVSQIITFGTMAAKAVIRDVGRVLGHPYGFVDRISKLIPPDPGMTLAKAFEAEPQLPEIYEADEEVKALIDMARKLEGVTRNAGKHAGGVVIAPTKITDFAPLYCDEEGKHPVTQFDKSDVEYAGLVKFDFLGLRTLTIINWALEMINKRRAKNGEPPLDIAAIPLDDKKSFDMLQRSETTAVFQLESRGMKDLIKRLQPDCFEDMIALVALFRPGPLQSGMVDNFIDRKHGREEISYPDVQWQHESLKPVLEPTYGIILYQEQVMQIAQVLSGYTLGGADMLRRAMGKKKPEEMAKQRSVFAEGAEKNGINAELAMKIFDLVEKFAGYGFNKSHSAAYALVSYQTLWLKAHYPAEFMAAVMTADMDNTEKVVGLVDECWRMGLKILPPDINSGLYHFHVNDDGEIVYGIGAIKGVGEGPIEAIIEARNKGGYFRELFDLCARTDTKKLNRRVLEKLIMSGAFDRLGPHRAALMNSLGDALKAADQHAKAEAIGQADMFGVLAEEPEQIEQSYASCQPWPEQVVLDGERETLGLYLTGHPINQYLKEIERYVGGVRLKDMHPTERGKVITAAGLVVAARVMVTKRGNRIGICTLDDRSGRLEVMLFTDALDKYQQLLEKDRILIVSGQVSFDDFSGGLKMTAREVMDIDEAREKYARGLAISLTDRQIDDQLLNRLRQSLEPHRSGTIPVHLYYQRADARARLRFGATWRVSPSDRLLNDLRGLIGSEQVELEFD\n"
     ]
    }
   ],
   "source": [
    "print(protein)"
   ]
  },
  {
   "cell_type": "markdown",
   "metadata": {},
   "source": [
    "In the above, we have glossed over one important detail: how does BioPython know which _codons_ correspond to each amino acid? The answer is that there are different codon tables for the different branches of life, and by default BioPython uses table #1, the standard table for Eukarya."
   ]
  },
  {
   "cell_type": "code",
   "execution_count": 29,
   "metadata": {},
   "outputs": [
    {
     "name": "stdout",
     "output_type": "stream",
     "text": [
      "Table 1 Standard, SGC0\n",
      "\n",
      "  |  T      |  C      |  A      |  G      |\n",
      "--+---------+---------+---------+---------+--\n",
      "T | TTT F   | TCT S   | TAT Y   | TGT C   | T\n",
      "T | TTC F   | TCC S   | TAC Y   | TGC C   | C\n",
      "T | TTA L   | TCA S   | TAA Stop| TGA Stop| A\n",
      "T | TTG L(s)| TCG S   | TAG Stop| TGG W   | G\n",
      "--+---------+---------+---------+---------+--\n",
      "C | CTT L   | CCT P   | CAT H   | CGT R   | T\n",
      "C | CTC L   | CCC P   | CAC H   | CGC R   | C\n",
      "C | CTA L   | CCA P   | CAA Q   | CGA R   | A\n",
      "C | CTG L(s)| CCG P   | CAG Q   | CGG R   | G\n",
      "--+---------+---------+---------+---------+--\n",
      "A | ATT I   | ACT T   | AAT N   | AGT S   | T\n",
      "A | ATC I   | ACC T   | AAC N   | AGC S   | C\n",
      "A | ATA I   | ACA T   | AAA K   | AGA R   | A\n",
      "A | ATG M(s)| ACG T   | AAG K   | AGG R   | G\n",
      "--+---------+---------+---------+---------+--\n",
      "G | GTT V   | GCT A   | GAT D   | GGT G   | T\n",
      "G | GTC V   | GCC A   | GAC D   | GGC G   | C\n",
      "G | GTA V   | GCA A   | GAA E   | GGA G   | A\n",
      "G | GTG V   | GCG A   | GAG E   | GGG G   | G\n",
      "--+---------+---------+---------+---------+--\n"
     ]
    }
   ],
   "source": [
    "from Bio.Data import CodonTable\n",
    "standard_table = CodonTable.unambiguous_dna_by_id[1]\n",
    "\n",
    "print(standard_table)"
   ]
  },
  {
   "cell_type": "markdown",
   "metadata": {},
   "source": [
    "Recall that we are working with e. coli, a bacterium, so this is not the correct translation table. \n",
    "\n",
    "1. Take a look at `CodonTable.unambiguous_dna_by_name` to find a translation table that is appropriate for e. coli.\n",
    "\n",
    "2. Run the translation again, and compare the resulting protein to the one that we obtained using the standard table. Are the two proteins identical?"
   ]
  },
  {
   "cell_type": "code",
   "execution_count": 30,
   "metadata": {},
   "outputs": [
    {
     "data": {
      "text/plain": [
       "{'Standard': <Bio.Data.CodonTable.NCBICodonTableDNA at 0x1165c3898>,\n",
       " 'SGC0': <Bio.Data.CodonTable.NCBICodonTableDNA at 0x1165c3898>,\n",
       " 'Vertebrate Mitochondrial': <Bio.Data.CodonTable.NCBICodonTableDNA at 0x1165d0a90>,\n",
       " 'SGC1': <Bio.Data.CodonTable.NCBICodonTableDNA at 0x1165d0a90>,\n",
       " 'Yeast Mitochondrial': <Bio.Data.CodonTable.NCBICodonTableDNA at 0x1165d37f0>,\n",
       " 'SGC2': <Bio.Data.CodonTable.NCBICodonTableDNA at 0x1165d37f0>,\n",
       " 'Mold Mitochondrial': <Bio.Data.CodonTable.NCBICodonTableDNA at 0x1165d4dd8>,\n",
       " 'Protozoan Mitochondrial': <Bio.Data.CodonTable.NCBICodonTableDNA at 0x1165d4dd8>,\n",
       " 'Coelenterate Mitochondrial': <Bio.Data.CodonTable.NCBICodonTableDNA at 0x1165d4dd8>,\n",
       " 'Mycoplasma': <Bio.Data.CodonTable.NCBICodonTableDNA at 0x1165d4dd8>,\n",
       " 'Spiroplasma': <Bio.Data.CodonTable.NCBICodonTableDNA at 0x1165d4dd8>,\n",
       " 'SGC3': <Bio.Data.CodonTable.NCBICodonTableDNA at 0x1165d4dd8>,\n",
       " 'Invertebrate Mitochondrial': <Bio.Data.CodonTable.NCBICodonTableDNA at 0x1165dc550>,\n",
       " 'SGC4': <Bio.Data.CodonTable.NCBICodonTableDNA at 0x1165dc550>,\n",
       " 'Ciliate Nuclear': <Bio.Data.CodonTable.NCBICodonTableDNA at 0x1165de9e8>,\n",
       " 'Dasycladacean Nuclear': <Bio.Data.CodonTable.NCBICodonTableDNA at 0x1165de9e8>,\n",
       " 'Hexamita Nuclear': <Bio.Data.CodonTable.NCBICodonTableDNA at 0x1165de9e8>,\n",
       " 'SGC5': <Bio.Data.CodonTable.NCBICodonTableDNA at 0x1165de9e8>,\n",
       " 'Echinoderm Mitochondrial': <Bio.Data.CodonTable.NCBICodonTableDNA at 0x1165e0b00>,\n",
       " 'Flatworm Mitochondrial': <Bio.Data.CodonTable.NCBICodonTableDNA at 0x1165e0b00>,\n",
       " 'SGC8': <Bio.Data.CodonTable.NCBICodonTableDNA at 0x1165e0b00>,\n",
       " 'Euplotid Nuclear': <Bio.Data.CodonTable.NCBICodonTableDNA at 0x1165e1a58>,\n",
       " 'SGC9': <Bio.Data.CodonTable.NCBICodonTableDNA at 0x1165e1a58>,\n",
       " 'Bacterial': <Bio.Data.CodonTable.NCBICodonTableDNA at 0x1165e2080>,\n",
       " 'Archaeal': <Bio.Data.CodonTable.NCBICodonTableDNA at 0x1165e2080>,\n",
       " 'Plant Plastid': <Bio.Data.CodonTable.NCBICodonTableDNA at 0x1165e2080>,\n",
       " 'Alternative Yeast Nuclear': <Bio.Data.CodonTable.NCBICodonTableDNA at 0x1165e2780>,\n",
       " 'Ascidian Mitochondrial': <Bio.Data.CodonTable.NCBICodonTableDNA at 0x1165f28d0>,\n",
       " 'Alternative Flatworm Mitochondrial': <Bio.Data.CodonTable.NCBICodonTableDNA at 0x1165f4a20>,\n",
       " 'Blepharisma Macronuclear': <Bio.Data.CodonTable.NCBICodonTableDNA at 0x1165f5048>,\n",
       " 'Chlorophycean Mitochondrial': <Bio.Data.CodonTable.NCBICodonTableDNA at 0x1165f5e10>,\n",
       " 'Trematode Mitochondrial': <Bio.Data.CodonTable.NCBICodonTableDNA at 0x1165f6a20>,\n",
       " 'Scenedesmus obliquus Mitochondrial': <Bio.Data.CodonTable.NCBICodonTableDNA at 0x1165f7780>,\n",
       " 'Thraustochytrium Mitochondrial': <Bio.Data.CodonTable.NCBICodonTableDNA at 0x1165f8780>,\n",
       " 'Pterobranchia Mitochondrial': <Bio.Data.CodonTable.NCBICodonTableDNA at 0x1165f9ba8>,\n",
       " 'Candidate Division SR1': <Bio.Data.CodonTable.NCBICodonTableDNA at 0x1166126a0>,\n",
       " 'Gracilibacteria': <Bio.Data.CodonTable.NCBICodonTableDNA at 0x1166126a0>,\n",
       " 'Pachysolen tannophilus Nuclear': <Bio.Data.CodonTable.NCBICodonTableDNA at 0x116615c18>,\n",
       " 'Karyorelict Nuclear': <Bio.Data.CodonTable.NCBICodonTableDNA at 0x116618fd0>,\n",
       " 'Condylostoma Nuclear': <Bio.Data.CodonTable.NCBICodonTableDNA at 0x11661d9b0>,\n",
       " 'Mesodinium Nuclear': <Bio.Data.CodonTable.NCBICodonTableDNA at 0x1166217f0>,\n",
       " 'Peritrich Nuclear': <Bio.Data.CodonTable.NCBICodonTableDNA at 0x116624208>,\n",
       " 'Blastocrithidia Nuclear': <Bio.Data.CodonTable.NCBICodonTableDNA at 0x116624c88>}"
      ]
     },
     "execution_count": 30,
     "metadata": {},
     "output_type": "execute_result"
    }
   ],
   "source": [
    "CodonTable.unambiguous_dna_by_name"
   ]
  },
  {
   "cell_type": "code",
   "execution_count": 31,
   "metadata": {},
   "outputs": [
    {
     "name": "stdout",
     "output_type": "stream",
     "text": [
      "Table 11 Bacterial, Archaeal, Plant Plastid\n",
      "\n",
      "  |  T      |  C      |  A      |  G      |\n",
      "--+---------+---------+---------+---------+--\n",
      "T | TTT F   | TCT S   | TAT Y   | TGT C   | T\n",
      "T | TTC F   | TCC S   | TAC Y   | TGC C   | C\n",
      "T | TTA L   | TCA S   | TAA Stop| TGA Stop| A\n",
      "T | TTG L(s)| TCG S   | TAG Stop| TGG W   | G\n",
      "--+---------+---------+---------+---------+--\n",
      "C | CTT L   | CCT P   | CAT H   | CGT R   | T\n",
      "C | CTC L   | CCC P   | CAC H   | CGC R   | C\n",
      "C | CTA L   | CCA P   | CAA Q   | CGA R   | A\n",
      "C | CTG L(s)| CCG P   | CAG Q   | CGG R   | G\n",
      "--+---------+---------+---------+---------+--\n",
      "A | ATT I(s)| ACT T   | AAT N   | AGT S   | T\n",
      "A | ATC I(s)| ACC T   | AAC N   | AGC S   | C\n",
      "A | ATA I(s)| ACA T   | AAA K   | AGA R   | A\n",
      "A | ATG M(s)| ACG T   | AAG K   | AGG R   | G\n",
      "--+---------+---------+---------+---------+--\n",
      "G | GTT V   | GCT A   | GAT D   | GGT G   | T\n",
      "G | GTC V   | GCC A   | GAC D   | GGC G   | C\n",
      "G | GTA V   | GCA A   | GAA E   | GGA G   | A\n",
      "G | GTG V(s)| GCG A   | GAG E   | GGG G   | G\n",
      "--+---------+---------+---------+---------+--\n"
     ]
    }
   ],
   "source": [
    "bact_table = CodonTable.unambiguous_dna_by_name['Bacterial']\n",
    "print(bact_table)"
   ]
  },
  {
   "cell_type": "markdown",
   "metadata": {},
   "source": [
    " Fortunately, the translated protein ends up being identical in this case."
   ]
  },
  {
   "cell_type": "code",
   "execution_count": 32,
   "metadata": {},
   "outputs": [],
   "source": [
    "protein_bact = cds.translate(table=bact_table, cds=True)"
   ]
  },
  {
   "cell_type": "code",
   "execution_count": 33,
   "metadata": {},
   "outputs": [
    {
     "data": {
      "text/plain": [
       "True"
      ]
     },
     "execution_count": 33,
     "metadata": {},
     "output_type": "execute_result"
    }
   ],
   "source": [
    "protein == protein_bact"
   ]
  },
  {
   "cell_type": "markdown",
   "metadata": {},
   "source": [
    "More genomic information with SeqUtils\n",
    "----"
   ]
  },
  {
   "cell_type": "markdown",
   "metadata": {},
   "source": [
    "SeqUtils is a BioPython module to compute some quantities of interest for genomic sequences, such as GC content, molecular weights, etc. It is not strictly necessary to use this module; many of these quantities can also be computed with straightforward Numpy (or a little Cython)."
   ]
  },
  {
   "cell_type": "code",
   "execution_count": 34,
   "metadata": {},
   "outputs": [],
   "source": [
    "from Bio import SeqUtils"
   ]
  },
  {
   "cell_type": "markdown",
   "metadata": {},
   "source": [
    "Here we focus on computing the _GC skew_ along a sliding window. That is, we break the genome up into pieces of a fixed size (1000 bases in the example) and for each piece we compute the quantity\n",
    "\n",
    "$$\n",
    "    \\text{skew} = \\frac{G - C}{G + C}\n",
    "$$\n",
    "\n",
    "If there are as many Gs as there are Cs, the skew is 0, and if G is more/less abundant, the skew is positive/negative.\n",
    "\n",
    "Given that we saw earlier that there are globally about 25% As, 25% Cs, 25% Gs, and 25% Ts, should we conclude that the skew is always zero? Let's find out!"
   ]
  },
  {
   "cell_type": "markdown",
   "metadata": {},
   "source": [
    "1. Use `SeqUtils.GC_skew` to compute the GC skew with a 1000-base window. \n",
    "1. The result of the first step is a list of values, which is not very informative. Make a plot of the GC skew. Does it look like the skew is always roughly 0?"
   ]
  },
  {
   "cell_type": "code",
   "execution_count": 35,
   "metadata": {},
   "outputs": [],
   "source": [
    "window = 1000\n",
    "gc_skew = SeqUtils.GC_skew(seq, window=window)"
   ]
  },
  {
   "cell_type": "code",
   "execution_count": 36,
   "metadata": {},
   "outputs": [],
   "source": [
    "assert len(gc_skew) == len(seq) // window + 1"
   ]
  },
  {
   "cell_type": "code",
   "execution_count": 37,
   "metadata": {},
   "outputs": [
    {
     "data": {
      "image/png": "[encoded data removed]",
      "text/plain": [
       "<Figure size 432x288 with 1 Axes>"
      ]
     },
     "metadata": {},
     "output_type": "display_data"
    }
   ],
   "source": [
    "x_pos = np.arange(0, len(seq), window)\n",
    "\n",
    "plt.plot(x_pos, gc_skew);"
   ]
  },
  {
   "cell_type": "markdown",
   "metadata": {},
   "source": [
    "If all goes well, the previous step should have given you a fairly noisy plot. We can get a clearer signal by instead plotting the _cumulative GC skew_.\n",
    "\n",
    "1. Make a plot of the cumulative GC skew. (_Hint_: you can use `numpy.cumsum` to compute the cumulative sum of a list of values)."
   ]
  },
  {
   "cell_type": "code",
   "execution_count": 38,
   "metadata": {},
   "outputs": [
    {
     "data": {
      "text/plain": [
       "[<matplotlib.lines.Line2D at 0x117769b38>]"
      ]
     },
     "execution_count": 38,
     "metadata": {},
     "output_type": "execute_result"
    },
    {
     "data": {
      "image/png": "[encoded data removed]",
      "text/plain": [
       "<Figure size 432x288 with 1 Axes>"
      ]
     },
     "metadata": {},
     "output_type": "display_data"
    }
   ],
   "source": [
    "gc_skew_cum = np.cumsum(gc_skew)\n",
    "\n",
    "plt.plot(x_pos, gc_skew_cum)"
   ]
  },
  {
   "cell_type": "markdown",
   "metadata": {},
   "source": [
    "This is quite surprising: we may have assumed that Gs and Cs would be distributed more or less randomly throughout the genome. Instead we see that the amount of Gs steadily increases until it reaches a maximum, and then decreases again. \n",
    "\n",
    "\n",
    "There is a good biological reason for this. Normally DNA is quite stable, and in equilibrium you expect to see about as many G as there is C (and similarly for A and T). However, during replication DNA is not in equilibrium. Replication of bacterial chromosomes usually starts at a single, well-defined location. The DNA strand is opened into two strands of single-stranded DNA, and for a circular chromosome (like that of e. coli) replication then proceeds in two directions. However, DNA polymerase, the enzyme that replicates DNA, can only move from the 5' to the 3' end of a DNA strand. That means that one strand, the _leading_ strand, is replicated continuously, while the other one (the _lagging_ strand) is replicated in fits and starts. It is thought that this asymetry ultimately leads to the imbalance between G and C that we observe.\n",
    "\n",
    "This provides a mechanism to find the _origin of replication_ in a genome (the place where DNA replication starts): it corresponds roughly to the _minimum_ of the cumulative GC skew. (This mechanism is not always appropriate).\n",
    "\n",
    "More information in [Rocha, _The replication-related organization of bacterial genomes._](https://www.ncbi.nlm.nih.gov/pubmed/15184548)"
   ]
  },
  {
   "cell_type": "code",
   "execution_count": 39,
   "metadata": {},
   "outputs": [
    {
     "name": "stdout",
     "output_type": "stream",
     "text": [
      "max: 1551000, min: 3925000\n"
     ]
    }
   ],
   "source": [
    "ori = np.argmin(gc_skew_cum) * window\n",
    "ter = np.argmax(gc_skew_cum) * window\n",
    "\n",
    "print(f\"max: {ter}, min: {ori}\")"
   ]
  },
  {
   "cell_type": "code",
   "execution_count": 40,
   "metadata": {},
   "outputs": [
    {
     "name": "stdout",
     "output_type": "stream",
     "text": [
      "2374000 2320826\n"
     ]
    }
   ],
   "source": [
    "print(ori - ter, len(seq) // 2)"
   ]
  },
  {
   "cell_type": "markdown",
   "metadata": {},
   "source": [
    "Using sequence databases to find more information about genomes\n",
    "----"
   ]
  },
  {
   "cell_type": "markdown",
   "metadata": {},
   "source": [
    "We are not limited to writing our own algorithms to find e.g. the origin of replication. For well-studied organisms such as e. coli a vast array of information is available (e.g. genes and coding sequences, repeats, CRISPR arrays, ...) that can be queried from more-or-less standard databases (available online).\n",
    "\n",
    "One such database is Genbank, XYZ.\n",
    "\n",
    "We will look at the Genbank record for e. coli. To avoid having to download this, the entire record has been provided with this repository. It is about 12MB in size (5MB for the sequence, and 7MB for the remaining metadata)."
   ]
  },
  {
   "cell_type": "code",
   "execution_count": 41,
   "metadata": {},
   "outputs": [
    {
     "name": "stdout",
     "output_type": "stream",
     "text": [
      "LOCUS       NC_000913            4641652 bp    DNA     circular CON 08-AUG-2016\r\n",
      "DEFINITION  Escherichia coli str. K-12 substr. MG1655, complete genome.\r\n",
      "ACCESSION   NC_000913\r\n",
      "VERSION     NC_000913.3\r\n",
      "DBLINK      BioProject: PRJNA57779\r\n",
      "            BioSample: SAMN02604091\r\n",
      "            Assembly: GCF_000005845.2\r\n",
      "KEYWORDS    RefSeq.\r\n",
      "SOURCE      Escherichia coli str. K-12 substr. MG1655\r\n",
      "  ORGANISM  Escherichia coli str. K-12 substr. MG1655\r\n"
     ]
    }
   ],
   "source": [
    "!head data/GCF_000005845.2_ASM584v2_genomic.gbff"
   ]
  },
  {
   "cell_type": "markdown",
   "metadata": {},
   "source": [
    "1. Read the Genbank record from the file `data/GCF_000005845.2_ASM584v2_genomic.gbff` into a `SeqRecord`."
   ]
  },
  {
   "cell_type": "code",
   "execution_count": 42,
   "metadata": {},
   "outputs": [],
   "source": [
    "from Bio import SeqIO\n",
    "\n",
    "with open(\"data/GCF_000005845.2_ASM584v2_genomic.gbff\") as fp:\n",
    "    gbk_record = SeqIO.read(fp, \"genbank\")"
   ]
  },
  {
   "cell_type": "markdown",
   "metadata": {},
   "source": [
    "Like our previous `SeqRecord` instances, this one has a `.seq`, a `.id`, a `.description`, etc. It also has some more information that's specific to Genbank. Let's look at the `.features` attribute. This is a list of genomic features (genes, coding sequences, origin of replication, ...)."
   ]
  },
  {
   "cell_type": "code",
   "execution_count": 43,
   "metadata": {},
   "outputs": [
    {
     "data": {
      "text/plain": [
       "SeqFeature(FeatureLocation(ExactPosition(5233), ExactPosition(5530), strand=1), type='CDS')"
      ]
     },
     "execution_count": 43,
     "metadata": {},
     "output_type": "execute_result"
    }
   ],
   "source": [
    "feature = gbk_record.features[10]\n",
    "feature"
   ]
  },
  {
   "cell_type": "code",
   "execution_count": 44,
   "metadata": {},
   "outputs": [
    {
     "data": {
      "text/plain": [
       "'CDS'"
      ]
     },
     "execution_count": 44,
     "metadata": {},
     "output_type": "execute_result"
    }
   ],
   "source": [
    "feature.type"
   ]
  },
  {
   "cell_type": "markdown",
   "metadata": {},
   "source": [
    "Each feature has an `.extract` method to slice out the region of the sequence that corresponds to it."
   ]
  },
  {
   "cell_type": "code",
   "execution_count": 45,
   "metadata": {},
   "outputs": [
    {
     "data": {
      "text/plain": [
       "Seq('GTGAAAAAGATGCAATCTATCGTACTCGCACTTTCCCTGGTTCTGGTCGCTCCC...TAA', IUPACAmbiguousDNA())"
      ]
     },
     "execution_count": 45,
     "metadata": {},
     "output_type": "execute_result"
    }
   ],
   "source": [
    "feature.extract(gbk_record.seq)"
   ]
  },
  {
   "cell_type": "markdown",
   "metadata": {},
   "source": [
    "Features also have a `.qualifiers` dictionary with metadata."
   ]
  },
  {
   "cell_type": "code",
   "execution_count": 46,
   "metadata": {},
   "outputs": [
    {
     "data": {
      "text/plain": [
       "OrderedDict([('gene', ['yaaX']),\n",
       "             ('locus_tag', ['b0005']),\n",
       "             ('gene_synonym', ['ECK0005; JW0004']),\n",
       "             ('codon_start', ['1']),\n",
       "             ('transl_table', ['11']),\n",
       "             ('product', ['DUF2502 family putative periplasmic protein']),\n",
       "             ('protein_id', ['NP_414546.1']),\n",
       "             ('db_xref',\n",
       "              ['ASAP:ABE-0000015',\n",
       "               'UniProtKB/Swiss-Prot:P75616',\n",
       "               'EcoGene:EG14384',\n",
       "               'GeneID:944747']),\n",
       "             ('translation',\n",
       "              ['MKKMQSIVLALSLVLVAPMAAQAAEITLVPSVKLQIGDRDNRGYYWDGGHWRDHGWWKQHYEWRGNRWHLHGPPPPPRHHKKAPHDHHGGHGPGKHHR'])])"
      ]
     },
     "execution_count": 46,
     "metadata": {},
     "output_type": "execute_result"
    }
   ],
   "source": [
    "feature.qualifiers"
   ]
  },
  {
   "cell_type": "code",
   "execution_count": 47,
   "metadata": {},
   "outputs": [
    {
     "data": {
      "text/plain": [
       "{'CDS',\n",
       " 'gene',\n",
       " 'misc_feature',\n",
       " 'mobile_element',\n",
       " 'ncRNA',\n",
       " 'rRNA',\n",
       " 'rep_origin',\n",
       " 'repeat_region',\n",
       " 'source',\n",
       " 'tRNA',\n",
       " 'tmRNA'}"
      ]
     },
     "execution_count": 47,
     "metadata": {},
     "output_type": "execute_result"
    }
   ],
   "source": [
    "set(feature.type for feature in gbk_record.features)"
   ]
  },
  {
   "cell_type": "markdown",
   "metadata": {},
   "source": [
    "Let's put our knowledge to good use.\n",
    "\n",
    "1. Iterate over the features, and count the number of _genes_ in E. Coli. \n",
    "1. Find the location of the `rep_origin` feature. Does this agree with the answer we got from GC skew?\n",
    "1. Find the feature that corresponds to the coding sequence for the `dnaE` gene.\n",
    "1. What percentage of the genome consists of coding regions?"
   ]
  },
  {
   "cell_type": "code",
   "execution_count": 48,
   "metadata": {},
   "outputs": [
    {
     "name": "stdout",
     "output_type": "stream",
     "text": [
      "4319\n"
     ]
    }
   ],
   "source": [
    "cds_features = []\n",
    "for feature in gbk_record.features:\n",
    "    if feature.type == 'CDS':\n",
    "        cds_features.append(feature)\n",
    "        \n",
    "print(len(cds_features))"
   ]
  },
  {
   "cell_type": "code",
   "execution_count": 49,
   "metadata": {},
   "outputs": [
    {
     "data": {
      "text/plain": [
       "[SeqFeature(FeatureLocation(ExactPosition(3925743), ExactPosition(3925975), strand=1), type='rep_origin')]"
      ]
     },
     "execution_count": 49,
     "metadata": {},
     "output_type": "execute_result"
    }
   ],
   "source": [
    "[feature for feature in gbk_record.features if feature.type == 'rep_origin']"
   ]
  },
  {
   "cell_type": "code",
   "execution_count": 50,
   "metadata": {},
   "outputs": [],
   "source": [
    "dnaE_cds = None\n",
    "for feature in cds_features:\n",
    "    if feature.qualifiers['gene'][0] == 'dnaE':\n",
    "        dnaE_cds = feature\n",
    "        break"
   ]
  },
  {
   "cell_type": "code",
   "execution_count": 51,
   "metadata": {},
   "outputs": [
    {
     "name": "stdout",
     "output_type": "stream",
     "text": [
      "type: CDS\n",
      "location: [205125:208608](+)\n",
      "qualifiers:\n",
      "    Key: EC_number, Value: ['2.7.7.7']\n",
      "    Key: GO_component, Value: ['GO:0005737 - cytoplasm']\n",
      "    Key: GO_process, Value: ['GO:0006261 - DNA-dependent DNA replication']\n",
      "    Key: codon_start, Value: ['1']\n",
      "    Key: db_xref, Value: ['ASAP:ABE-0000624', 'UniProtKB/Swiss-Prot:P10443', 'EcoGene:EG10238', 'GeneID:944877']\n",
      "    Key: function, Value: ['enzyme; DNA - replication, repair, restriction/modification']\n",
      "    Key: gene, Value: ['dnaE']\n",
      "    Key: gene_synonym, Value: ['ECK0183; JW0179; polC; sdgC']\n",
      "    Key: locus_tag, Value: ['b0184']\n",
      "    Key: note, Value: ['DNA polymerase III, alpha subunit']\n",
      "    Key: product, Value: ['DNA polymerase III alpha subunit']\n",
      "    Key: protein_id, Value: ['NP_414726.1']\n",
      "    Key: transl_table, Value: ['11']\n",
      "    Key: translation, Value: ['MSEPRFVHLRVHSDYSMIDGLAKTAPLVKKAAALGMPALAITDFTNLCGLVKFYGAGHGAGIKPIVGADFNVQCDLLGDELTHLTVLAANNTGYQNLTLLISKAYQRGYGAAGPIIDRDWLIELNEGLILLSGGRMGDVGRSLLRGNSALVDECVAFYEEHFPDRYFLELIRTGRPDEESYLHAAVELAEARGLPVVATNDVRFIDSSDFDAHEIRVAIHDGFTLDDPKRPRNYSPQQYMRSEEEMCELFADIPEALANTVEIAKRCNVTVRLGEYFLPQFPTGDMSTEDYLVKRAKEGLEERLAFLFPDEEERLKRRPEYDERLETELQVINQMGFPGYFLIVMEFIQWSKDNGVPVGPGRGSGAGSLVAYALKITDLDPLEFDLLFERFLNPERVSMPDFDVDFCMEKRDQVIEHVADMYGRDAVSQIITFGTMAAKAVIRDVGRVLGHPYGFVDRISKLIPPDPGMTLAKAFEAEPQLPEIYEADEEVKALIDMARKLEGVTRNAGKHAGGVVIAPTKITDFAPLYCDEEGKHPVTQFDKSDVEYAGLVKFDFLGLRTLTIINWALEMINKRRAKNGEPPLDIAAIPLDDKKSFDMLQRSETTAVFQLESRGMKDLIKRLQPDCFEDMIALVALFRPGPLQSGMVDNFIDRKHGREEISYPDVQWQHESLKPVLEPTYGIILYQEQVMQIAQVLSGYTLGGADMLRRAMGKKKPEEMAKQRSVFAEGAEKNGINAELAMKIFDLVEKFAGYGFNKSHSAAYALVSYQTLWLKAHYPAEFMAAVMTADMDNTEKVVGLVDECWRMGLKILPPDINSGLYHFHVNDDGEIVYGIGAIKGVGEGPIEAIIEARNKGGYFRELFDLCARTDTKKLNRRVLEKLIMSGAFDRLGPHRAALMNSLGDALKAADQHAKAEAIGQADMFGVLAEEPEQIEQSYASCQPWPEQVVLDGERETLGLYLTGHPINQYLKEIERYVGGVRLKDMHPTERGKVITAAGLVVAARVMVTKRGNRIGICTLDDRSGRLEVMLFTDALDKYQQLLEKDRILIVSGQVSFDDFSGGLKMTAREVMDIDEAREKYARGLAISLTDRQIDDQLLNRLRQSLEPHRSGTIPVHLYYQRADARARLRFGATWRVSPSDRLLNDLRGLIGSEQVELEFD']\n",
      "\n"
     ]
    }
   ],
   "source": [
    "print(dnaE_cds)"
   ]
  },
  {
   "cell_type": "code",
   "execution_count": 52,
   "metadata": {},
   "outputs": [
    {
     "name": "stdout",
     "output_type": "stream",
     "text": [
      "Coding sequences make up 88.10% of the genome\n"
     ]
    }
   ],
   "source": [
    "# Needs a check that no CDS are overlapping.\n",
    "coding_length = sum(len(f) for f in cds_features)\n",
    "\n",
    "print(\"Coding sequences make up {:.2%} of the genome\".format(coding_length / len(seq)))"
   ]
  },
  {
   "cell_type": "markdown",
   "metadata": {},
   "source": [
    "Lastly, let's compare the GC content in coding regions versus non-coding regions. With what we have seen of features so far, plus some Matplotlib, this is quite achievable."
   ]
  },
  {
   "cell_type": "code",
   "execution_count": 53,
   "metadata": {},
   "outputs": [],
   "source": [
    "cds_gc = [SeqUtils.GC(f.extract(seq)) for f in cds_features]"
   ]
  },
  {
   "cell_type": "code",
   "execution_count": 54,
   "metadata": {},
   "outputs": [],
   "source": [
    "non_cds_gc = []\n",
    "for flank0, flank1 in zip(cds_features[:-1], cds_features[1:]):\n",
    "    intra_start = int(flank0.location.end)\n",
    "    intra_stop = int(flank1.location.start)\n",
    "    gc = SeqUtils.GC(seq[intra_start:intra_stop])\n",
    "    non_cds_gc.append(gc)"
   ]
  },
  {
   "cell_type": "code",
   "execution_count": 55,
   "metadata": {},
   "outputs": [
    {
     "data": {
      "text/plain": [
       "<matplotlib.legend.Legend at 0x11760c8d0>"
      ]
     },
     "execution_count": 55,
     "metadata": {},
     "output_type": "execute_result"
    },
    {
     "data": {
      "image/png": "[encoded data removed]",
      "text/plain": [
       "<Figure size 432x288 with 1 Axes>"
      ]
     },
     "metadata": {},
     "output_type": "display_data"
    }
   ],
   "source": [
    "fig = plt.figure()\n",
    "ax = fig.add_subplot(111)\n",
    "\n",
    "ax.hist(non_cds_gc, bins=20, alpha=0.3, color='red', label='non-CDS')\n",
    "ax.hist(cds_gc, bins=20, alpha=0.3, color='blue', label='CDS')\n",
    "\n",
    "mean_gc = SeqUtils.GC(seq)\n",
    "ax.axvline(mean_gc, color='black')\n",
    "ax.legend()"
   ]
  },
  {
   "cell_type": "markdown",
   "metadata": {},
   "source": [
    "Getting information from protein databases\n",
    "---"
   ]
  },
  {
   "cell_type": "markdown",
   "metadata": {},
   "source": [
    "At this point, we come quite far. We know what genes e. coli posseses, as well as their locations, and we even know the protein sequences (either by inspecting the Genbank record, or by doing the translation ourselves). What we don't know so far is the _why_: what is the function of all these proteins? \n",
    "\n",
    "Luckily, BioPython allows us to answer that question as well. If you inspect the protein metadata, you'll notice identifiers for that protein in _protein databases_, such as swiss-prot. Querying this information allows you to find more information about the function and structure of proteins."
   ]
  },
  {
   "cell_type": "markdown",
   "metadata": {},
   "source": [
    "Note: the following cell assumes that you have a working internet connection. If you cannot download the record for some reason, you can also use a downloaded copy that comes with this notebook. "
   ]
  },
  {
   "cell_type": "code",
   "execution_count": 56,
   "metadata": {},
   "outputs": [],
   "source": [
    "from Bio import ExPASy\n",
    "from Bio import SwissProt\n",
    "\n",
    "# P10443 is the protein made by dnaE\n",
    "with ExPASy.get_sprot_raw(\"P10443\") as handle:\n",
    "    record = SwissProt.read(handle)"
   ]
  },
  {
   "cell_type": "code",
   "execution_count": 57,
   "metadata": {},
   "outputs": [],
   "source": [
    "## Use this version if downloading the record doesn't work\n",
    "# with open('data/P10443.txt') as handle:\n",
    "#    record = SwissProt.read(handle)"
   ]
  },
  {
   "cell_type": "markdown",
   "metadata": {},
   "source": [
    "Records have a few useful properties:"
   ]
  },
  {
   "cell_type": "code",
   "execution_count": 58,
   "metadata": {},
   "outputs": [
    {
     "name": "stdout",
     "output_type": "stream",
     "text": [
      "DPO3A_ECOLI\n"
     ]
    }
   ],
   "source": [
    "print(record.entry_name)"
   ]
  },
  {
   "cell_type": "code",
   "execution_count": 59,
   "metadata": {},
   "outputs": [
    {
     "name": "stdout",
     "output_type": "stream",
     "text": [
      "['83333']\n"
     ]
    }
   ],
   "source": [
    "print(record.taxonomy_id)"
   ]
  },
  {
   "cell_type": "code",
   "execution_count": 60,
   "metadata": {},
   "outputs": [
    {
     "name": "stdout",
     "output_type": "stream",
     "text": [
      "Escherichia coli (strain K12).\n"
     ]
    }
   ],
   "source": [
    "print(record.organism)"
   ]
  },
  {
   "cell_type": "code",
   "execution_count": 61,
   "metadata": {},
   "outputs": [
    {
     "name": "stdout",
     "output_type": "stream",
     "text": [
      "['Bacteria', 'Proteobacteria', 'Gammaproteobacteria', 'Enterobacterales', 'Enterobacteriaceae', 'Escherichia']\n"
     ]
    }
   ],
   "source": [
    "print(record.organism_classification)"
   ]
  },
  {
   "cell_type": "code",
   "execution_count": 62,
   "metadata": {},
   "outputs": [
    {
     "name": "stdout",
     "output_type": "stream",
     "text": [
      "[\"FUNCTION: DNA polymerase III is a complex, multichain enzyme responsible for most of the replicative synthesis in bacteria (PubMed:2932432). This DNA polymerase also exhibits 3' to 5' exonuclease activity. The alpha chain is the DNA polymerase catalytic subunit (PubMed:2932432). It is tethered to replicating DNA by the beta sliding clamp (dnaN), which confers extremely high processivity to the catalytic subunit, copying a 5.4 kb genome in 11 seconds, a speed of at least 500 nucleotides/second at 30 degrees Celsius (PubMed:2413035). {ECO:0000269|PubMed:2413035, ECO:0000269|PubMed:2932432}.\", 'CATALYTIC ACTIVITY: Deoxynucleoside triphosphate + DNA(n) = diphosphate + DNA(n+1). {ECO:0000269|PubMed:2932432}.', \"SUBUNIT: The DNA polymerase III holoenzyme complex contains at least 10 different subunits organized into 3 functionally essential subassemblies: the Pol III core, the beta sliding clamp processivity factor and the clamp-loading complex. The Pol III core (subunits alpha, epsilon and theta) contains the polymerase and the 3'-5' exonuclease proofreading activities (PubMed:2040637). The polymerase is tethered to the template via the dimeric beta sliding clamp processivity factor. The clamp loader (also called gamma complex) assembles the beta sliding clamp onto the primed template and plays a central role in the organization and communication at the replication fork. The clamp- loading complex contains delta, delta', psi and chi, and 3 copies of either or both of two different DnaX proteins, gamma and tau. The DNA replisome complex has a single clamp loader (3 tau and 1 each of delta, delta', psi and chi subunits) which binds 3 Pol III cores (1 core on the leading strand and 2 on the lagging strand) each with a beta sliding clamp dimer. Additional proteins in the replisome are other copies of gamma, psi and chi, Ssb, DNA helicase and RNA primase (PubMed:20413500, PubMed:22157955). Interacts with the beta sliding-clamp subunit via the peptide Gln- Ala-Asp-Met-Phe (residues 920-924) (PubMed:11573000). {ECO:0000269|PubMed:11573000, ECO:0000269|PubMed:2040637, ECO:0000269|PubMed:20413500, ECO:0000269|PubMed:22157955}.\", 'INTERACTION: P0A988:dnaN; NbExp=17; IntAct=EBI-549111, EBI-542385; P03007:dnaQ; NbExp=22; IntAct=EBI-549111, EBI-549131; P06710:dnaX; NbExp=11; IntAct=EBI-549111, EBI-549140; P28630:holA; NbExp=5; IntAct=EBI-549111, EBI-549153; P0A7K2:rplL; NbExp=3; IntAct=EBI-549111, EBI-543702; P77806:ybdL; NbExp=3; IntAct=EBI-549111, EBI-543661;', 'SUBCELLULAR LOCATION: Cytoplasm.', 'SIMILARITY: Belongs to the DNA polymerase type-C family. DnaE subfamily. {ECO:0000305}.', 'SEQUENCE CAUTION: Sequence=AAA70369.1; Type=Erroneous initiation; Note=Translation N-terminally shortened.; Evidence={ECO:0000305};']\n"
     ]
    }
   ],
   "source": [
    "print(record.comments)"
   ]
  },
  {
   "cell_type": "code",
   "execution_count": 63,
   "metadata": {},
   "outputs": [
    {
     "name": "stdout",
     "output_type": "stream",
     "text": [
      "[('EMBL', 'M19334', 'AAC36920.1', '-', 'Genomic_DNA'), ('EMBL', 'U70214', 'AAB08613.1', '-', 'Genomic_DNA'), ('EMBL', 'U00096', 'AAC73295.1', '-', 'Genomic_DNA'), ('EMBL', 'AP009048', 'BAA77859.1', '-', 'Genomic_DNA'), ('EMBL', 'S52931', 'AAB24889.1', '-', 'mRNA'), ('EMBL', 'M96394', 'AAA70369.1', 'ALT_INIT', 'Genomic_DNA'), ('EMBL', 'D49445', 'BAA08424.1', '-', 'Genomic_DNA'), ('PIR', 'C28390', 'DJEC3A'), ('RefSeq', 'NP_414726.1', 'NC_000913.3'), ('RefSeq', 'WP_001294757.1', 'NZ_LN832404.1'), ('PDB', '2HNH', 'X-ray', '2.30 A', 'A=1-910'), ('PDB', '2HQA', 'X-ray', '2.60 A', 'A=1-917'), ('PDB', '4GX8', 'X-ray', '1.70 A', 'A/B/C/D=1-270'), ('PDB', '4GX9', 'X-ray', '2.15 A', 'A/B/C/D=1-270'), ('PDB', '4JOM', 'X-ray', '2.90 A', 'A=1-917'), ('PDB', '5FKU', 'EM', '8.34 A', 'A=1-1160'), ('PDB', '5FKV', 'EM', '8.00 A', 'A=1-1160'), ('PDB', '5FKW', 'EM', '7.30 A', 'A=1-1160'), ('PDB', '5M1S', 'EM', '6.70 A', 'A=1-927'), ('PDBsum', '2HNH', '-'), ('PDBsum', '2HQA', '-'), ('PDBsum', '4GX8', '-'), ('PDBsum', '4GX9', '-'), ('PDBsum', '4JOM', '-'), ('PDBsum', '5FKU', '-'), ('PDBsum', '5FKV', '-'), ('PDBsum', '5FKW', '-'), ('PDBsum', '5M1S', '-'), ('ProteinModelPortal', 'P10443', '-'), ('SMR', 'P10443', '-'), ('BioGrid', '4262228', '218'), ('ComplexPortal', 'CPX-1925', 'DNA polymerase III proofreading complex'), ('DIP', 'DIP-9458N', '-'), ('IntAct', 'P10443', '70'), ('MINT', 'P10443', '-'), ('STRING', '316385.ECDH10B_0164', '-'), ('BindingDB', 'P10443', '-'), ('ChEMBL', 'CHEMBL4621', '-'), ('PaxDb', 'P10443', '-'), ('PRIDE', 'P10443', '-'), ('EnsemblBacteria', 'AAC73295', 'AAC73295', 'b0184'), ('EnsemblBacteria', 'BAA77859', 'BAA77859', 'BAA77859'), ('GeneID', '944877', '-'), ('KEGG', 'ecj:JW0179', '-'), ('KEGG', 'eco:b0184', '-'), ('PATRIC', 'fig|1411691.4.peg.2095', '-'), ('EchoBASE', 'EB0234', '-'), ('EcoGene', 'EG10238', 'dnaE'), ('eggNOG', 'ENOG4105C0B', 'Bacteria'), ('eggNOG', 'COG0587', 'LUCA'), ('HOGENOM', 'HOG000021784', '-'), ('InParanoid', 'P10443', '-'), ('KO', 'K02337', '-'), ('OMA', 'KSHSTCY', '-'), ('PhylomeDB', 'P10443', '-'), ('BioCyc', 'EcoCyc:EG10238-MONOMER', '-'), ('BioCyc', 'MetaCyc:EG10238-MONOMER', '-'), ('EvolutionaryTrace', 'P10443', '-'), ('PRO', 'PR:P10443', '-'), ('Proteomes', 'UP000000318', 'Chromosome'), ('Proteomes', 'UP000000625', 'Chromosome'), ('GO', 'GO:0005737', 'C:cytoplasm', 'IDA:EcoliWiki'), ('GO', 'GO:0005829', 'C:cytosol', 'IDA:EcoCyc'), ('GO', 'GO:0044776', 'C:DNA polymerase III, core complex', 'IDA:EcoCyc'), ('GO', 'GO:0003677', 'F:DNA binding', 'IEA:UniProtKB-KW'), ('GO', 'GO:0003887', 'F:DNA-directed DNA polymerase activity', 'IDA:EcoliWiki'), ('GO', 'GO:0006260', 'P:DNA replication', 'IEA:UniProtKB-KW'), ('InterPro', 'IPR011708', 'DNA_pol3_alpha'), ('InterPro', 'IPR029460', 'DNAPol_HHH'), ('InterPro', 'IPR004365', 'NA-bd_OB_tRNA'), ('InterPro', 'IPR004013', 'PHP_dom'), ('InterPro', 'IPR003141', 'Pol/His_phosphatase_N'), ('InterPro', 'IPR016195', 'Pol/histidinol_Pase-like'), ('InterPro', 'IPR004805', 'PolC_alpha'), ('PANTHER', 'PTHR32294', 'PTHR32294', '1'), ('Pfam', 'PF07733', 'DNA_pol3_alpha', '1'), ('Pfam', 'PF14579', 'HHH_6', '1'), ('Pfam', 'PF02811', 'PHP', '1'), ('Pfam', 'PF01336', 'tRNA_anti-codon', '1'), ('SMART', 'SM00481', 'POLIIIAc', '1'), ('SUPFAM', 'SSF89550', 'SSF89550', '1'), ('TIGRFAMs', 'TIGR00594', 'polc', '1')]\n"
     ]
    }
   ],
   "source": [
    "print(record.cross_references)"
   ]
  },
  {
   "cell_type": "markdown",
   "metadata": {},
   "source": [
    "The `.cross_references` attribute contains accessions for records in other databases. Here, we extract the PDB references. PDB (Protein Data Bank) is a databank of molecular structures for proteins, and we can query it for information about the molecular structure of DNA polymerase."
   ]
  },
  {
   "cell_type": "code",
   "execution_count": 64,
   "metadata": {},
   "outputs": [
    {
     "name": "stdout",
     "output_type": "stream",
     "text": [
      "('PDB', '2HNH', 'X-ray', '2.30 A', 'A=1-910')\n",
      "('PDB', '2HQA', 'X-ray', '2.60 A', 'A=1-917')\n",
      "('PDB', '4GX8', 'X-ray', '1.70 A', 'A/B/C/D=1-270')\n",
      "('PDB', '4GX9', 'X-ray', '2.15 A', 'A/B/C/D=1-270')\n",
      "('PDB', '4JOM', 'X-ray', '2.90 A', 'A=1-917')\n",
      "('PDB', '5FKU', 'EM', '8.34 A', 'A=1-1160')\n",
      "('PDB', '5FKV', 'EM', '8.00 A', 'A=1-1160')\n",
      "('PDB', '5FKW', 'EM', '7.30 A', 'A=1-1160')\n",
      "('PDB', '5M1S', 'EM', '6.70 A', 'A=1-927')\n"
     ]
    }
   ],
   "source": [
    "pdb_refs = []\n",
    "for ref in record.cross_references:\n",
    "    if ref[0] == 'PDB':\n",
    "        print(ref)\n",
    "        pdb_refs.append(ref[1])\n",
    "        \n",
    "# Let's analyze one PDB record\n",
    "pdb_ref = pdb_refs[0]"
   ]
  },
  {
   "cell_type": "markdown",
   "metadata": {},
   "source": [
    "Now that we have a single PDB record, let's view the molecular structure. There are many molecular viewers in Python, and some even play well with the notebook.\n",
    "\n",
    "- https://github.com/arose/nglview\n",
    "- https://github.com/avirshup/py3dmol\n",
    "- https://pymol.org/2/\n",
    "\n",
    "Here we use `nglview`."
   ]
  },
  {
   "cell_type": "code",
   "execution_count": 73,
   "metadata": {},
   "outputs": [
    {
     "name": "stdout",
     "output_type": "stream",
     "text": [
      "2HNH\n"
     ]
    }
   ],
   "source": [
    "print(pdb_ref)"
   ]
  },
  {
   "cell_type": "code",
   "execution_count": 66,
   "metadata": {
    "scrolled": true
   },
   "outputs": [
    {
     "data": {
      "application/vnd.jupyter.widget-view+json": {
       "model_id": "ad0bb5f77555491982e4e6bf633f558d",
       "version_major": 2,
       "version_minor": 0
      },
      "text/plain": [
       "NGLWidget()"
      ]
     },
     "metadata": {},
     "output_type": "display_data"
    }
   ],
   "source": [
    "import nglview\n",
    "\n",
    "view = nglview.show_pdbid(pdb_ref)\n",
    "view"
   ]
  },
  {
   "cell_type": "code",
   "execution_count": 67,
   "metadata": {},
   "outputs": [
    {
     "name": "stderr",
     "output_type": "stream",
     "text": [
      "WARNING: The default download format has changed from PDB to PDBx/mmCif\n"
     ]
    },
    {
     "name": "stdout",
     "output_type": "stream",
     "text": [
      "Structure exists: '/Users/jvankerschaver/src/jvkersch/bio-tutorial/hn/2hnh.cif' \n",
      "/Users/jvankerschaver/src/jvkersch/bio-tutorial/hn/2hnh.cif\n"
     ]
    }
   ],
   "source": [
    "from Bio import PDB\n",
    "\n",
    "pdbl = PDB.PDBList()\n",
    "pdb_fname = pdbl.retrieve_pdb_file(pdb_ref)\n",
    "\n",
    "print(pdb_fname)\n",
    "\n",
    "parser = PDB.MMCIFParser()\n",
    "structure = parser.get_structure(pdb_ref, pdb_fname)"
   ]
  },
  {
   "cell_type": "code",
   "execution_count": 68,
   "metadata": {},
   "outputs": [
    {
     "data": {
      "text/plain": [
       "<Structure id=2HNH>"
      ]
     },
     "execution_count": 68,
     "metadata": {},
     "output_type": "execute_result"
    }
   ],
   "source": [
    "structure"
   ]
  },
  {
   "cell_type": "code",
   "execution_count": 69,
   "metadata": {},
   "outputs": [
    {
     "data": {
      "text/plain": [
       "[<Atom N>,\n",
       " <Atom CA>,\n",
       " <Atom C>,\n",
       " <Atom O>,\n",
       " <Atom CB>,\n",
       " <Atom CG>,\n",
       " <Atom SD>,\n",
       " <Atom CE>,\n",
       " <Atom N>,\n",
       " <Atom CA>,\n",
       " <Atom C>,\n",
       " <Atom O>,\n",
       " <Atom CB>,\n",
       " <Atom OG>,\n",
       " <Atom N>,\n",
       " <Atom CA>,\n",
       " <Atom C>,\n",
       " <Atom O>,\n",
       " <Atom CB>,\n",
       " <Atom CG>,\n",
       " <Atom CD>,\n",
       " <Atom OE1>,\n",
       " <Atom OE2>,\n",
       " <Atom N>,\n",
       " <Atom CA>,\n",
       " <Atom C>,\n",
       " <Atom O>,\n",
       " <Atom CB>,\n",
       " <Atom CG>,\n",
       " <Atom CD>,\n",
       " <Atom N>,\n",
       " <Atom CA>,\n",
       " <Atom C>,\n",
       " <Atom O>,\n",
       " <Atom CB>,\n",
       " <Atom CG>,\n",
       " <Atom CD>,\n",
       " <Atom NE>,\n",
       " <Atom CZ>,\n",
       " <Atom NH1>,\n",
       " <Atom NH2>,\n",
       " <Atom N>,\n",
       " <Atom CA>,\n",
       " <Atom C>,\n",
       " <Atom O>,\n",
       " <Atom CB>,\n",
       " <Atom CG>,\n",
       " <Atom CD1>,\n",
       " <Atom CD2>,\n",
       " <Atom CE1>,\n",
       " <Atom CE2>,\n",
       " <Atom CZ>,\n",
       " <Atom N>,\n",
       " <Atom CA>,\n",
       " <Atom C>,\n",
       " <Atom O>,\n",
       " <Atom CB>,\n",
       " <Atom CG1>,\n",
       " <Atom CG2>,\n",
       " <Atom N>,\n",
       " <Atom CA>,\n",
       " <Atom C>,\n",
       " <Atom O>,\n",
       " <Atom CB>,\n",
       " <Atom CG>,\n",
       " <Atom ND1>,\n",
       " <Atom CD2>,\n",
       " <Atom CE1>,\n",
       " <Atom NE2>,\n",
       " <Atom N>,\n",
       " <Atom CA>,\n",
       " <Atom C>,\n",
       " <Atom O>,\n",
       " <Atom CB>,\n",
       " <Atom CG>,\n",
       " <Atom CD1>,\n",
       " <Atom CD2>,\n",
       " <Atom N>,\n",
       " <Atom CA>,\n",
       " <Atom C>,\n",
       " <Atom O>,\n",
       " <Atom CB>,\n",
       " <Atom CG>,\n",
       " <Atom CD>,\n",
       " <Atom NE>,\n",
       " <Atom CZ>,\n",
       " <Atom NH1>,\n",
       " <Atom NH2>,\n",
       " <Atom N>,\n",
       " <Atom CA>,\n",
       " <Atom C>,\n",
       " <Atom O>,\n",
       " <Atom CB>,\n",
       " <Atom CG1>,\n",
       " <Atom CG2>,\n",
       " <Atom N>,\n",
       " <Atom CA>,\n",
       " <Atom C>,\n",
       " <Atom O>,\n",
       " <Atom CB>,\n",
       " <Atom CG>,\n",
       " <Atom ND1>,\n",
       " <Atom CD2>,\n",
       " <Atom CE1>,\n",
       " <Atom NE2>,\n",
       " <Atom N>,\n",
       " <Atom CA>,\n",
       " <Atom C>,\n",
       " <Atom O>,\n",
       " <Atom CB>,\n",
       " <Atom OG>,\n",
       " <Atom N>,\n",
       " <Atom CA>,\n",
       " <Atom C>,\n",
       " <Atom O>,\n",
       " <Atom CB>,\n",
       " <Atom CG>,\n",
       " <Atom OD1>,\n",
       " <Atom OD2>,\n",
       " <Atom N>,\n",
       " <Atom CA>,\n",
       " <Atom C>,\n",
       " <Atom O>,\n",
       " <Atom CB>,\n",
       " <Atom CG>,\n",
       " <Atom CD1>,\n",
       " <Atom CD2>,\n",
       " <Atom CE1>,\n",
       " <Atom CE2>,\n",
       " <Atom CZ>,\n",
       " <Atom OH>,\n",
       " <Atom N>,\n",
       " <Atom CA>,\n",
       " <Atom C>,\n",
       " <Atom O>,\n",
       " <Atom CB>,\n",
       " <Atom OG>,\n",
       " <Atom N>,\n",
       " <Atom CA>,\n",
       " <Atom C>,\n",
       " <Atom O>,\n",
       " <Atom CB>,\n",
       " <Atom CG>,\n",
       " <Atom SD>,\n",
       " <Atom CE>,\n",
       " <Atom N>,\n",
       " <Atom CA>,\n",
       " <Atom C>,\n",
       " <Atom O>,\n",
       " <Atom CB>,\n",
       " <Atom CG1>,\n",
       " <Atom CG2>,\n",
       " <Atom CD1>,\n",
       " <Atom N>,\n",
       " <Atom CA>,\n",
       " <Atom C>,\n",
       " <Atom O>,\n",
       " <Atom CB>,\n",
       " <Atom CG>,\n",
       " <Atom OD1>,\n",
       " <Atom OD2>,\n",
       " <Atom N>,\n",
       " <Atom CA>,\n",
       " <Atom C>,\n",
       " <Atom O>,\n",
       " <Atom N>,\n",
       " <Atom CA>,\n",
       " <Atom C>,\n",
       " <Atom O>,\n",
       " <Atom CB>,\n",
       " <Atom CG>,\n",
       " <Atom CD1>,\n",
       " <Atom CD2>,\n",
       " <Atom N>,\n",
       " <Atom CA>,\n",
       " <Atom C>,\n",
       " <Atom O>,\n",
       " <Atom CB>,\n",
       " <Atom N>,\n",
       " <Atom CA>,\n",
       " <Atom C>,\n",
       " <Atom O>,\n",
       " <Atom CB>,\n",
       " <Atom CG>,\n",
       " <Atom CD>,\n",
       " <Atom CE>,\n",
       " <Atom NZ>,\n",
       " <Atom N>,\n",
       " <Atom CA>,\n",
       " <Atom C>,\n",
       " <Atom O>,\n",
       " <Atom CB>,\n",
       " <Atom OG1>,\n",
       " <Atom CG2>,\n",
       " <Atom N>,\n",
       " <Atom CA>,\n",
       " <Atom C>,\n",
       " <Atom O>,\n",
       " <Atom CB>,\n",
       " <Atom N>,\n",
       " <Atom CA>,\n",
       " <Atom C>,\n",
       " <Atom O>,\n",
       " <Atom CB>,\n",
       " <Atom CG>,\n",
       " <Atom CD>,\n",
       " <Atom N>,\n",
       " <Atom CA>,\n",
       " <Atom C>,\n",
       " <Atom O>,\n",
       " <Atom CB>,\n",
       " <Atom CG>,\n",
       " <Atom CD1>,\n",
       " <Atom CD2>,\n",
       " <Atom N>,\n",
       " <Atom CA>,\n",
       " <Atom C>,\n",
       " <Atom O>,\n",
       " <Atom CB>,\n",
       " <Atom CG1>,\n",
       " <Atom CG2>,\n",
       " <Atom N>,\n",
       " <Atom CA>,\n",
       " <Atom C>,\n",
       " <Atom O>,\n",
       " <Atom CB>,\n",
       " <Atom CG>,\n",
       " <Atom CD>,\n",
       " <Atom CE>,\n",
       " <Atom NZ>,\n",
       " <Atom N>,\n",
       " <Atom CA>,\n",
       " <Atom C>,\n",
       " <Atom O>,\n",
       " <Atom CB>,\n",
       " <Atom CG>,\n",
       " <Atom CD>,\n",
       " <Atom CE>,\n",
       " <Atom NZ>,\n",
       " <Atom N>,\n",
       " <Atom CA>,\n",
       " <Atom C>,\n",
       " <Atom O>,\n",
       " <Atom CB>,\n",
       " <Atom N>,\n",
       " <Atom CA>,\n",
       " <Atom C>,\n",
       " <Atom O>,\n",
       " <Atom CB>,\n",
       " <Atom N>,\n",
       " <Atom CA>,\n",
       " <Atom C>,\n",
       " <Atom O>,\n",
       " <Atom CB>,\n",
       " <Atom N>,\n",
       " <Atom CA>,\n",
       " <Atom C>,\n",
       " <Atom O>,\n",
       " <Atom CB>,\n",
       " <Atom CG>,\n",
       " <Atom CD1>,\n",
       " <Atom CD2>,\n",
       " <Atom N>,\n",
       " <Atom CA>,\n",
       " <Atom C>,\n",
       " <Atom O>,\n",
       " <Atom N>,\n",
       " <Atom CA>,\n",
       " <Atom C>,\n",
       " <Atom O>,\n",
       " <Atom CB>,\n",
       " <Atom CG>,\n",
       " <Atom SD>,\n",
       " <Atom CE>,\n",
       " <Atom N>,\n",
       " <Atom CA>,\n",
       " <Atom C>,\n",
       " <Atom O>,\n",
       " <Atom CB>,\n",
       " <Atom CG>,\n",
       " <Atom CD>,\n",
       " <Atom N>,\n",
       " <Atom CA>,\n",
       " <Atom C>,\n",
       " <Atom O>,\n",
       " <Atom CB>,\n",
       " <Atom N>,\n",
       " <Atom CA>,\n",
       " <Atom C>,\n",
       " <Atom O>,\n",
       " <Atom CB>,\n",
       " <Atom CG>,\n",
       " <Atom CD1>,\n",
       " <Atom CD2>,\n",
       " <Atom N>,\n",
       " <Atom CA>,\n",
       " <Atom C>,\n",
       " <Atom O>,\n",
       " <Atom CB>,\n",
       " <Atom N>,\n",
       " <Atom CA>,\n",
       " <Atom C>,\n",
       " <Atom O>,\n",
       " <Atom CB>,\n",
       " <Atom CG1>,\n",
       " <Atom CG2>,\n",
       " <Atom CD1>,\n",
       " <Atom N>,\n",
       " <Atom CA>,\n",
       " <Atom C>,\n",
       " <Atom O>,\n",
       " <Atom CB>,\n",
       " <Atom OG1>,\n",
       " <Atom CG2>,\n",
       " <Atom N>,\n",
       " <Atom CA>,\n",
       " <Atom C>,\n",
       " <Atom O>,\n",
       " <Atom CB>,\n",
       " <Atom CG>,\n",
       " <Atom OD1>,\n",
       " <Atom OD2>,\n",
       " <Atom N>,\n",
       " <Atom CA>,\n",
       " <Atom C>,\n",
       " <Atom O>,\n",
       " <Atom CB>,\n",
       " <Atom CG>,\n",
       " <Atom CD1>,\n",
       " <Atom CD2>,\n",
       " <Atom CE1>,\n",
       " <Atom CE2>,\n",
       " <Atom CZ>,\n",
       " <Atom N>,\n",
       " <Atom CA>,\n",
       " <Atom C>,\n",
       " <Atom O>,\n",
       " <Atom CB>,\n",
       " <Atom OG1>,\n",
       " <Atom CG2>,\n",
       " <Atom N>,\n",
       " <Atom CA>,\n",
       " <Atom C>,\n",
       " <Atom O>,\n",
       " <Atom CB>,\n",
       " <Atom CG>,\n",
       " <Atom OD1>,\n",
       " <Atom ND2>,\n",
       " <Atom N>,\n",
       " <Atom CA>,\n",
       " <Atom C>,\n",
       " <Atom O>,\n",
       " <Atom CB>,\n",
       " <Atom CG>,\n",
       " <Atom CD1>,\n",
       " <Atom CD2>,\n",
       " <Atom N>,\n",
       " <Atom CA>,\n",
       " <Atom C>,\n",
       " <Atom O>,\n",
       " <Atom CB>,\n",
       " <Atom SG>,\n",
       " <Atom N>,\n",
       " <Atom CA>,\n",
       " <Atom C>,\n",
       " <Atom O>,\n",
       " <Atom N>,\n",
       " <Atom CA>,\n",
       " <Atom C>,\n",
       " <Atom O>,\n",
       " <Atom CB>,\n",
       " <Atom CG>,\n",
       " <Atom CD1>,\n",
       " <Atom CD2>,\n",
       " <Atom N>,\n",
       " <Atom CA>,\n",
       " <Atom C>,\n",
       " <Atom O>,\n",
       " <Atom CB>,\n",
       " <Atom CG1>,\n",
       " <Atom CG2>,\n",
       " <Atom N>,\n",
       " <Atom CA>,\n",
       " <Atom C>,\n",
       " <Atom O>,\n",
       " <Atom CB>,\n",
       " <Atom CG>,\n",
       " <Atom CD>,\n",
       " <Atom CE>,\n",
       " <Atom NZ>,\n",
       " <Atom N>,\n",
       " <Atom CA>,\n",
       " <Atom C>,\n",
       " <Atom O>,\n",
       " <Atom CB>,\n",
       " <Atom CG>,\n",
       " <Atom CD1>,\n",
       " <Atom CD2>,\n",
       " <Atom CE1>,\n",
       " <Atom CE2>,\n",
       " <Atom CZ>,\n",
       " <Atom N>,\n",
       " <Atom CA>,\n",
       " <Atom C>,\n",
       " <Atom O>,\n",
       " <Atom CB>,\n",
       " <Atom CG>,\n",
       " <Atom CD1>,\n",
       " <Atom CD2>,\n",
       " <Atom CE1>,\n",
       " <Atom CE2>,\n",
       " <Atom CZ>,\n",
       " <Atom OH>,\n",
       " <Atom N>,\n",
       " <Atom CA>,\n",
       " <Atom C>,\n",
       " <Atom O>,\n",
       " <Atom N>,\n",
       " <Atom CA>,\n",
       " <Atom C>,\n",
       " <Atom O>,\n",
       " <Atom CB>,\n",
       " <Atom N>,\n",
       " <Atom CA>,\n",
       " <Atom C>,\n",
       " <Atom O>,\n",
       " <Atom N>,\n",
       " <Atom CA>,\n",
       " <Atom C>,\n",
       " <Atom O>,\n",
       " <Atom CB>,\n",
       " <Atom CG>,\n",
       " <Atom ND1>,\n",
       " <Atom CD2>,\n",
       " <Atom CE1>,\n",
       " <Atom NE2>,\n",
       " <Atom N>,\n",
       " <Atom CA>,\n",
       " <Atom C>,\n",
       " <Atom O>,\n",
       " <Atom N>,\n",
       " <Atom CA>,\n",
       " <Atom C>,\n",
       " <Atom O>,\n",
       " <Atom CB>,\n",
       " <Atom N>,\n",
       " <Atom CA>,\n",
       " <Atom C>,\n",
       " <Atom O>,\n",
       " <Atom N>,\n",
       " <Atom CA>,\n",
       " <Atom C>,\n",
       " <Atom O>,\n",
       " <Atom CB>,\n",
       " <Atom CG1>,\n",
       " <Atom CG2>,\n",
       " <Atom CD1>,\n",
       " <Atom N>,\n",
       " <Atom CA>,\n",
       " <Atom C>,\n",
       " <Atom O>,\n",
       " <Atom CB>,\n",
       " <Atom CG>,\n",
       " <Atom CD>,\n",
       " <Atom CE>,\n",
       " <Atom NZ>,\n",
       " <Atom N>,\n",
       " <Atom CA>,\n",
       " <Atom C>,\n",
       " <Atom O>,\n",
       " <Atom CB>,\n",
       " <Atom CG>,\n",
       " <Atom CD>,\n",
       " <Atom N>,\n",
       " <Atom CA>,\n",
       " <Atom C>,\n",
       " <Atom O>,\n",
       " <Atom CB>,\n",
       " <Atom CG1>,\n",
       " <Atom CG2>,\n",
       " <Atom CD1>,\n",
       " <Atom N>,\n",
       " <Atom CA>,\n",
       " <Atom C>,\n",
       " <Atom O>,\n",
       " <Atom CB>,\n",
       " <Atom CG1>,\n",
       " <Atom CG2>,\n",
       " <Atom N>,\n",
       " <Atom CA>,\n",
       " <Atom C>,\n",
       " <Atom O>,\n",
       " <Atom N>,\n",
       " <Atom CA>,\n",
       " <Atom C>,\n",
       " <Atom O>,\n",
       " <Atom CB>,\n",
       " <Atom N>,\n",
       " <Atom CA>,\n",
       " <Atom C>,\n",
       " <Atom O>,\n",
       " <Atom CB>,\n",
       " <Atom CG>,\n",
       " <Atom OD1>,\n",
       " <Atom OD2>,\n",
       " <Atom N>,\n",
       " <Atom CA>,\n",
       " <Atom C>,\n",
       " <Atom O>,\n",
       " <Atom CB>,\n",
       " <Atom CG>,\n",
       " <Atom CD1>,\n",
       " <Atom CD2>,\n",
       " <Atom CE1>,\n",
       " <Atom CE2>,\n",
       " <Atom CZ>,\n",
       " <Atom N>,\n",
       " <Atom CA>,\n",
       " <Atom C>,\n",
       " <Atom O>,\n",
       " <Atom CB>,\n",
       " <Atom CG>,\n",
       " <Atom OD1>,\n",
       " <Atom ND2>,\n",
       " <Atom N>,\n",
       " <Atom CA>,\n",
       " <Atom C>,\n",
       " <Atom O>,\n",
       " <Atom CB>,\n",
       " <Atom CG1>,\n",
       " <Atom CG2>,\n",
       " <Atom N>,\n",
       " <Atom CA>,\n",
       " <Atom C>,\n",
       " <Atom O>,\n",
       " <Atom CB>,\n",
       " <Atom CG>,\n",
       " <Atom CD>,\n",
       " <Atom OE1>,\n",
       " <Atom NE2>,\n",
       " <Atom N>,\n",
       " <Atom CA>,\n",
       " <Atom C>,\n",
       " <Atom O>,\n",
       " <Atom CB>,\n",
       " <Atom SG>,\n",
       " <Atom N>,\n",
       " <Atom CA>,\n",
       " <Atom C>,\n",
       " <Atom O>,\n",
       " <Atom CB>,\n",
       " <Atom CG>,\n",
       " <Atom OD1>,\n",
       " <Atom OD2>,\n",
       " <Atom N>,\n",
       " <Atom CA>,\n",
       " <Atom C>,\n",
       " <Atom O>,\n",
       " <Atom CB>,\n",
       " <Atom CG>,\n",
       " <Atom CD1>,\n",
       " <Atom CD2>,\n",
       " <Atom N>,\n",
       " <Atom CA>,\n",
       " <Atom C>,\n",
       " <Atom O>,\n",
       " <Atom CB>,\n",
       " <Atom CG>,\n",
       " <Atom CD1>,\n",
       " <Atom CD2>,\n",
       " <Atom N>,\n",
       " <Atom CA>,\n",
       " <Atom C>,\n",
       " <Atom O>,\n",
       " <Atom N>,\n",
       " <Atom CA>,\n",
       " <Atom C>,\n",
       " <Atom O>,\n",
       " <Atom CB>,\n",
       " <Atom CG>,\n",
       " <Atom OD1>,\n",
       " <Atom OD2>,\n",
       " <Atom N>,\n",
       " <Atom CA>,\n",
       " <Atom C>,\n",
       " <Atom O>,\n",
       " <Atom CB>,\n",
       " <Atom CG>,\n",
       " <Atom CD>,\n",
       " <Atom OE1>,\n",
       " <Atom OE2>,\n",
       " <Atom N>,\n",
       " <Atom CA>,\n",
       " <Atom C>,\n",
       " <Atom O>,\n",
       " <Atom CB>,\n",
       " <Atom CG>,\n",
       " <Atom CD1>,\n",
       " <Atom CD2>,\n",
       " <Atom N>,\n",
       " <Atom CA>,\n",
       " <Atom C>,\n",
       " <Atom O>,\n",
       " <Atom CB>,\n",
       " <Atom OG1>,\n",
       " <Atom CG2>,\n",
       " <Atom N>,\n",
       " <Atom CA>,\n",
       " <Atom C>,\n",
       " <Atom O>,\n",
       " <Atom CB>,\n",
       " <Atom CG>,\n",
       " <Atom ND1>,\n",
       " <Atom CD2>,\n",
       " <Atom CE1>,\n",
       " <Atom NE2>,\n",
       " <Atom N>,\n",
       " <Atom CA>,\n",
       " <Atom C>,\n",
       " <Atom O>,\n",
       " <Atom CB>,\n",
       " <Atom CG>,\n",
       " <Atom CD1>,\n",
       " <Atom CD2>,\n",
       " <Atom N>,\n",
       " <Atom CA>,\n",
       " <Atom C>,\n",
       " <Atom O>,\n",
       " <Atom CB>,\n",
       " <Atom OG1>,\n",
       " <Atom CG2>,\n",
       " <Atom N>,\n",
       " <Atom CA>,\n",
       " <Atom C>,\n",
       " <Atom O>,\n",
       " <Atom CB>,\n",
       " <Atom CG1>,\n",
       " <Atom CG2>,\n",
       " <Atom N>,\n",
       " <Atom CA>,\n",
       " <Atom C>,\n",
       " <Atom O>,\n",
       " <Atom CB>,\n",
       " <Atom CG>,\n",
       " <Atom CD1>,\n",
       " <Atom CD2>,\n",
       " <Atom N>,\n",
       " <Atom CA>,\n",
       " <Atom C>,\n",
       " <Atom O>,\n",
       " <Atom CB>,\n",
       " <Atom N>,\n",
       " <Atom CA>,\n",
       " <Atom C>,\n",
       " <Atom O>,\n",
       " <Atom CB>,\n",
       " <Atom N>,\n",
       " <Atom CA>,\n",
       " <Atom C>,\n",
       " <Atom O>,\n",
       " <Atom CB>,\n",
       " <Atom CG>,\n",
       " <Atom OD1>,\n",
       " <Atom ND2>,\n",
       " <Atom N>,\n",
       " <Atom CA>,\n",
       " <Atom C>,\n",
       " <Atom O>,\n",
       " <Atom CB>,\n",
       " <Atom CG>,\n",
       " <Atom OD1>,\n",
       " <Atom ND2>,\n",
       " <Atom N>,\n",
       " <Atom CA>,\n",
       " <Atom C>,\n",
       " <Atom O>,\n",
       " <Atom CB>,\n",
       " <Atom OG1>,\n",
       " <Atom CG2>,\n",
       " <Atom N>,\n",
       " <Atom CA>,\n",
       " <Atom C>,\n",
       " <Atom O>,\n",
       " <Atom N>,\n",
       " <Atom CA>,\n",
       " <Atom C>,\n",
       " <Atom O>,\n",
       " <Atom CB>,\n",
       " <Atom CG>,\n",
       " <Atom CD1>,\n",
       " <Atom CD2>,\n",
       " <Atom CE1>,\n",
       " <Atom CE2>,\n",
       " <Atom CZ>,\n",
       " <Atom OH>,\n",
       " <Atom N>,\n",
       " <Atom CA>,\n",
       " <Atom C>,\n",
       " <Atom O>,\n",
       " <Atom CB>,\n",
       " <Atom CG>,\n",
       " <Atom CD>,\n",
       " <Atom OE1>,\n",
       " <Atom NE2>,\n",
       " <Atom N>,\n",
       " <Atom CA>,\n",
       " <Atom C>,\n",
       " <Atom O>,\n",
       " <Atom CB>,\n",
       " <Atom CG>,\n",
       " <Atom OD1>,\n",
       " <Atom ND2>,\n",
       " <Atom N>,\n",
       " <Atom CA>,\n",
       " <Atom C>,\n",
       " <Atom O>,\n",
       " <Atom CB>,\n",
       " <Atom CG>,\n",
       " <Atom CD1>,\n",
       " <Atom CD2>,\n",
       " <Atom N>,\n",
       " <Atom CA>,\n",
       " <Atom C>,\n",
       " <Atom O>,\n",
       " <Atom CB>,\n",
       " <Atom OG1>,\n",
       " <Atom CG2>,\n",
       " <Atom N>,\n",
       " <Atom CA>,\n",
       " <Atom C>,\n",
       " <Atom O>,\n",
       " <Atom CB>,\n",
       " <Atom CG>,\n",
       " <Atom CD1>,\n",
       " <Atom CD2>,\n",
       " <Atom N>,\n",
       " <Atom CA>,\n",
       " <Atom C>,\n",
       " <Atom O>,\n",
       " <Atom CB>,\n",
       " <Atom CG>,\n",
       " <Atom CD1>,\n",
       " <Atom CD2>,\n",
       " <Atom N>,\n",
       " <Atom CA>,\n",
       " <Atom C>,\n",
       " <Atom O>,\n",
       " <Atom CB>,\n",
       " <Atom CG1>,\n",
       " <Atom CG2>,\n",
       " <Atom CD1>,\n",
       " <Atom N>,\n",
       " <Atom CA>,\n",
       " <Atom C>,\n",
       " <Atom O>,\n",
       " <Atom CB>,\n",
       " <Atom OG>,\n",
       " <Atom N>,\n",
       " <Atom CA>,\n",
       " <Atom C>,\n",
       " <Atom O>,\n",
       " <Atom CB>,\n",
       " <Atom CG>,\n",
       " <Atom CD>,\n",
       " <Atom CE>,\n",
       " <Atom NZ>,\n",
       " <Atom N>,\n",
       " <Atom CA>,\n",
       " <Atom C>,\n",
       " <Atom O>,\n",
       " <Atom CB>,\n",
       " <Atom N>,\n",
       " <Atom CA>,\n",
       " <Atom C>,\n",
       " <Atom O>,\n",
       " <Atom CB>,\n",
       " <Atom CG>,\n",
       " <Atom CD1>,\n",
       " <Atom CD2>,\n",
       " <Atom CE1>,\n",
       " <Atom CE2>,\n",
       " <Atom CZ>,\n",
       " <Atom OH>,\n",
       " <Atom N>,\n",
       " <Atom CA>,\n",
       " <Atom C>,\n",
       " <Atom O>,\n",
       " <Atom CB>,\n",
       " <Atom CG>,\n",
       " <Atom CD>,\n",
       " <Atom OE1>,\n",
       " <Atom NE2>,\n",
       " <Atom N>,\n",
       " <Atom CA>,\n",
       " <Atom C>,\n",
       " <Atom O>,\n",
       " <Atom CB>,\n",
       " <Atom CG>,\n",
       " <Atom CD>,\n",
       " <Atom NE>,\n",
       " <Atom CZ>,\n",
       " <Atom NH1>,\n",
       " <Atom NH2>,\n",
       " <Atom N>,\n",
       " <Atom CA>,\n",
       " <Atom C>,\n",
       " <Atom O>,\n",
       " <Atom N>,\n",
       " <Atom CA>,\n",
       " <Atom C>,\n",
       " <Atom O>,\n",
       " <Atom CB>,\n",
       " <Atom CG>,\n",
       " <Atom CD1>,\n",
       " <Atom CD2>,\n",
       " <Atom CE1>,\n",
       " <Atom CE2>,\n",
       " <Atom CZ>,\n",
       " <Atom OH>,\n",
       " <Atom N>,\n",
       " <Atom CA>,\n",
       " <Atom C>,\n",
       " <Atom O>,\n",
       " <Atom N>,\n",
       " <Atom CA>,\n",
       " <Atom C>,\n",
       " <Atom O>,\n",
       " <Atom CB>,\n",
       " <Atom N>,\n",
       " <Atom CA>,\n",
       " <Atom C>,\n",
       " <Atom O>,\n",
       " <Atom CB>,\n",
       " <Atom N>,\n",
       " <Atom CA>,\n",
       " <Atom C>,\n",
       " <Atom O>,\n",
       " <Atom N>,\n",
       " <Atom CA>,\n",
       " <Atom C>,\n",
       " <Atom O>,\n",
       " <Atom CB>,\n",
       " <Atom CG>,\n",
       " <Atom CD>,\n",
       " <Atom N>,\n",
       " <Atom CA>,\n",
       " <Atom C>,\n",
       " <Atom O>,\n",
       " <Atom CB>,\n",
       " <Atom CG1>,\n",
       " <Atom CG2>,\n",
       " <Atom CD1>,\n",
       " <Atom N>,\n",
       " <Atom CA>,\n",
       " <Atom C>,\n",
       " <Atom O>,\n",
       " <Atom CB>,\n",
       " <Atom CG1>,\n",
       " <Atom CG2>,\n",
       " <Atom CD1>,\n",
       " <Atom N>,\n",
       " <Atom CA>,\n",
       " <Atom C>,\n",
       " <Atom O>,\n",
       " <Atom CB>,\n",
       " <Atom CG>,\n",
       " <Atom OD1>,\n",
       " <Atom OD2>,\n",
       " <Atom N>,\n",
       " <Atom CA>,\n",
       " <Atom C>,\n",
       " <Atom O>,\n",
       " <Atom CB>,\n",
       " <Atom CG>,\n",
       " <Atom CD>,\n",
       " <Atom NE>,\n",
       " <Atom CZ>,\n",
       " <Atom NH1>,\n",
       " <Atom NH2>,\n",
       " <Atom N>,\n",
       " <Atom CA>,\n",
       " <Atom C>,\n",
       " <Atom O>,\n",
       " <Atom CB>,\n",
       " <Atom CG>,\n",
       " <Atom OD1>,\n",
       " <Atom OD2>,\n",
       " <Atom N>,\n",
       " <Atom CA>,\n",
       " <Atom C>,\n",
       " <Atom O>,\n",
       " <Atom CB>,\n",
       " <Atom CG>,\n",
       " <Atom CD1>,\n",
       " <Atom CD2>,\n",
       " <Atom NE1>,\n",
       " <Atom CE2>,\n",
       " <Atom CE3>,\n",
       " <Atom CZ2>,\n",
       " <Atom CZ3>,\n",
       " <Atom CH2>,\n",
       " <Atom N>,\n",
       " <Atom CA>,\n",
       " <Atom C>,\n",
       " <Atom O>,\n",
       " <Atom CB>,\n",
       " <Atom CG>,\n",
       " <Atom CD1>,\n",
       " <Atom CD2>,\n",
       " <Atom N>,\n",
       " <Atom CA>,\n",
       " <Atom C>,\n",
       " <Atom O>,\n",
       " <Atom CB>,\n",
       " <Atom CG1>,\n",
       " <Atom CG2>,\n",
       " <Atom CD1>,\n",
       " <Atom N>,\n",
       " <Atom CA>,\n",
       " <Atom C>,\n",
       " <Atom O>,\n",
       " <Atom CB>,\n",
       " <Atom CG>,\n",
       " <Atom CD>,\n",
       " <Atom OE1>,\n",
       " <Atom OE2>,\n",
       " <Atom N>,\n",
       " <Atom CA>,\n",
       " <Atom C>,\n",
       " <Atom O>,\n",
       " <Atom CB>,\n",
       " <Atom CG>,\n",
       " <Atom CD1>,\n",
       " <Atom CD2>,\n",
       " <Atom N>,\n",
       " <Atom CA>,\n",
       " <Atom C>,\n",
       " <Atom O>,\n",
       " <Atom CB>,\n",
       " <Atom CG>,\n",
       " <Atom OD1>,\n",
       " <Atom ND2>,\n",
       " <Atom N>,\n",
       " <Atom CA>,\n",
       " <Atom C>,\n",
       " <Atom O>,\n",
       " <Atom CB>,\n",
       " <Atom CG>,\n",
       " <Atom CD>,\n",
       " <Atom OE1>,\n",
       " <Atom OE2>,\n",
       " <Atom N>,\n",
       " <Atom CA>,\n",
       " <Atom C>,\n",
       " <Atom O>,\n",
       " <Atom N>,\n",
       " <Atom CA>,\n",
       " <Atom C>,\n",
       " <Atom O>,\n",
       " <Atom CB>,\n",
       " <Atom CG>,\n",
       " <Atom CD1>,\n",
       " <Atom CD2>,\n",
       " <Atom N>,\n",
       " <Atom CA>,\n",
       " <Atom C>,\n",
       " <Atom O>,\n",
       " <Atom CB>,\n",
       " <Atom CG1>,\n",
       " <Atom CG2>,\n",
       " <Atom CD1>,\n",
       " <Atom N>,\n",
       " <Atom CA>,\n",
       " <Atom C>,\n",
       " <Atom O>,\n",
       " <Atom CB>,\n",
       " <Atom CG>,\n",
       " <Atom CD1>,\n",
       " <Atom CD2>,\n",
       " <Atom N>,\n",
       " <Atom CA>,\n",
       " <Atom C>,\n",
       " <Atom O>,\n",
       " <Atom CB>,\n",
       " <Atom CG>,\n",
       " <Atom CD1>,\n",
       " <Atom CD2>,\n",
       " <Atom N>,\n",
       " <Atom CA>,\n",
       " <Atom C>,\n",
       " <Atom O>,\n",
       " <Atom CB>,\n",
       " <Atom OG>,\n",
       " <Atom N>,\n",
       " <Atom CA>,\n",
       " <Atom C>,\n",
       " <Atom O>,\n",
       " <Atom N>,\n",
       " <Atom CA>,\n",
       " <Atom C>,\n",
       " ...]"
      ]
     },
     "execution_count": 69,
     "metadata": {},
     "output_type": "execute_result"
    }
   ],
   "source": [
    "list(structure.get_atoms())"
   ]
  },
  {
   "cell_type": "markdown",
   "metadata": {},
   "source": [
    "Adapted from http://biopython.org/DIST/docs/tutorial/Tutorial.html#htoc262"
   ]
  },
  {
   "cell_type": "code",
   "execution_count": 70,
   "metadata": {},
   "outputs": [],
   "source": [
    "plasmid = SeqIO.read(\"data/e_coli_plasmid.gb\", \"genbank\")"
   ]
  },
  {
   "cell_type": "code",
   "execution_count": 71,
   "metadata": {},
   "outputs": [],
   "source": [
    "from Bio.Graphics import GenomeDiagram\n",
    "from reportlab.lib import colors\n",
    "\n",
    "gd_diagram = GenomeDiagram.Diagram(\"Escherichia coli str. K-12 substr. MG1655\")\n",
    "\n",
    "gd_track_for_features = gd_diagram.new_track(1, name=\"Annotated Features\")\n",
    "\n",
    "gd_feature_set = gd_track_for_features.new_set()\n",
    "for feature in plasmid.features:\n",
    "    if feature.type != 'gene':\n",
    "        continue\n",
    "    \n",
    "    if len(gd_feature_set) % 2 == 0:\n",
    "        color = colors.blue\n",
    "    else:\n",
    "        color = colors.lightblue\n",
    "    gd_feature_set.add_feature(feature, sigil=\"ARROW\",\n",
    "                               color=color, label=True,\n",
    "                               label_size = 14, label_angle=0)\n",
    "    \n",
    "gd_diagram.draw(format=\"circular\", circular=True,\n",
    "                start=0, end=len(plasmid), circle_core=0.5)\n",
    "gd_diagram.write(\"diagram.png\", \"PNG\")"
   ]
  },
  {
   "cell_type": "code",
   "execution_count": null,
   "metadata": {},
   "outputs": [],
   "source": []
  },
  {
   "cell_type": "code",
   "execution_count": 72,
   "metadata": {
    "scrolled": false
   },
   "outputs": [
    {
     "data": {
      "image/png": "[encoded data removed]",
      "text/plain": [
       "<IPython.core.display.Image object>"
      ]
     },
     "execution_count": 72,
     "metadata": {},
     "output_type": "execute_result"
    }
   ],
   "source": [
    "from IPython.display import Image\n",
    "Image(filename='diagram.png') "
   ]
  },
  {
   "cell_type": "code",
   "execution_count": null,
   "metadata": {},
   "outputs": [],
   "source": []
  }
 ],
 "metadata": {
  "kernelspec": {
   "display_name": "Python 3",
   "language": "python",
   "name": "python3"
  },
  "language_info": {
   "codemirror_mode": {
    "name": "ipython",
    "version": 3
   },
   "file_extension": ".py",
   "mimetype": "text/x-python",
   "name": "python",
   "nbconvert_exporter": "python",
   "pygments_lexer": "ipython3",
   "version": "3.6.6"
  }
 },
 "nbformat": 4,
 "nbformat_minor": 2
}
